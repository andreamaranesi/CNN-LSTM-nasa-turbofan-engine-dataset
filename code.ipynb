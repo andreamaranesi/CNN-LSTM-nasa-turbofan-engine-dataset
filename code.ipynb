{
  "cells": [
    {
      "cell_type": "code",
      "source": [
        "from google.colab import drive\n",
        "drive.mount('/content/drive')"
      ],
      "metadata": {
        "colab": {
          "base_uri": "https://localhost:8080/"
        },
        "id": "IgBKpHoaGRYp",
        "outputId": "af27a4ee-5ae6-43aa-ccae-b153021fffac"
      },
      "execution_count": null,
      "outputs": [
        {
          "output_type": "stream",
          "name": "stdout",
          "text": [
            "Mounted at /content/drive\n"
          ]
        }
      ]
    },
    {
      "cell_type": "markdown",
      "source": [
        "# Dataset extraction"
      ],
      "metadata": {
        "id": "ssRDvTOhPK9Q"
      }
    },
    {
      "cell_type": "code",
      "source": [
        "import torch \n",
        "from sklearn.preprocessing import MinMaxScaler\n",
        "import numpy as np\n",
        "import os\n",
        "import pandas as pd\n",
        "import pickle\n",
        "import matplotlib as plt\n",
        "from tqdm import tqdm\n",
        "from joblib import dump, load\n",
        "import sys\n",
        "from collections import defaultdict\n",
        "import seaborn as sns\n",
        "import matplotlib.pyplot as plt\n",
        "\n",
        "dumps_path = '/content/drive/MyDrive/Colab Notebooks/progetto_manutenzione/dumps'\n",
        "base_path = '/content/drive/MyDrive/Colab Notebooks/progetto_manutenzione/dataset/'\n",
        "#os.environ['CUBLAS_WORKSPACE_CONFIG'] = \":16:8\"\n",
        "\n"
      ],
      "metadata": {
        "id": "Z5VAE9l1679g"
      },
      "execution_count": null,
      "outputs": []
    },
    {
      "cell_type": "code",
      "source": [
        "dumps_path = '/content/drive/MyDrive/progetto_manutenzione/dumps/'\n",
        "base_path = '/content/drive/MyDrive/progetto_manutenzione/dataset/'"
      ],
      "metadata": {
        "id": "0gXwFY4_IQS8"
      },
      "execution_count": null,
      "outputs": []
    },
    {
      "cell_type": "markdown",
      "source": [
        "## Extraction\n",
        "Insert the entire dataset in the list dfs.\n",
        "Every element in the list is a df containing the dataset in a file."
      ],
      "metadata": {
        "id": "SL9IH_5d-fBb"
      }
    },
    {
      "cell_type": "code",
      "source": [
        "import h5py\n",
        "\n",
        "def extract_df(path: str, train: bool):\n",
        "  with h5py.File(path, 'r') as hdf:\n",
        "    if(train == True):\n",
        "      W = np.array(hdf.get('W_dev'))             # W\n",
        "      X_s = np.array(hdf.get('X_s_dev'))         # X_s\n",
        "      Y = np.array(hdf.get('Y_dev'))             # RUL\n",
        "      A = np.array(hdf.get('A_dev'))             # Auxiliary\n",
        "    else:\n",
        "      W = np.array(hdf.get('W_test'))            # W\n",
        "      X_s = np.array(hdf.get('X_s_test'))        # X_s\n",
        "      Y = np.array(hdf.get('Y_test'))             # RUL\n",
        "      A = np.array(hdf.get('A_test'))             # Auxiliary\n",
        "\n",
        "    W_var = np.array(hdf.get('W_var'))\n",
        "    X_s_var = np.array(hdf.get('X_s_var'))  \n",
        "    A_var = np.array(hdf.get('A_var'))\n",
        "    \n",
        "    # from np.array to list dtype U4/U5\n",
        "    W_var = list(np.array(W_var, dtype='U20'))\n",
        "    X_s_var = list(np.array(X_s_var, dtype='U20'))  \n",
        "    A_var = list(np.array(A_var, dtype='U20'))\n",
        "\n",
        "    df_Y = pd.DataFrame(Y, columns=['RUL'])\n",
        "    df_X = pd.DataFrame(X_s, columns=X_s_var)\n",
        "    df_W = pd.DataFrame(W, columns=W_var)\n",
        "    df_A = pd.DataFrame(A, columns=A_var)\n",
        "\n",
        "    return pd.concat([df_Y, df_W, df_A, df_X], axis=1)\n",
        "\n",
        "def find_begin_RTF_indexes(df):\n",
        "  index_list = [0]\n",
        "  index = 0\n",
        "  for i in df.cycle.diff():\n",
        "    if i < 0:\n",
        "      index_list.append(index+1)\n",
        "    index += 1\n",
        "  return index_list\n",
        "\n",
        "def find_begin_ts_indexes(cruise_df):\n",
        "  begin_indexes = [0]\n",
        "  indexes_diff = pd.Series(cruise_df.index).diff()\n",
        "  i = 0\n",
        "  for v in indexes_diff:\n",
        "    if v > 1: \n",
        "      begin_indexes.append(i)\n",
        "    i+=1\n",
        "  return begin_indexes\n",
        "\n",
        "def find_begin_cycle_indexes(df):\n",
        "  index_list = [0]\n",
        "  index = 0\n",
        "  for i in df.cycle.diff():\n",
        "    if i > 0:\n",
        "      index_list.append(index)\n",
        "    index += 1\n",
        "  return index_list\n",
        "\n",
        "def get_cycle_list(dfs):\n",
        "  dfs_final = []\n",
        "  for df in dfs:\n",
        "    idxs = find_begin_cycle_indexes(df)\n",
        "    for i in range(0,len(idxs)-1):\n",
        "      start_idx = idxs[i]\n",
        "      end_idx = idxs[i+1]\n",
        "      local_df = pd.DataFrame(df.iloc[start_idx:end_idx])\n",
        "      dfs_final.append(local_df)\n",
        "    local_df = pd.DataFrame(df.iloc[idxs[-1]:])\n",
        "    dfs_final.append(local_df)\n",
        "  return dfs_final\n",
        "\n",
        "def filter_cruise_alt(df, delta, meanV, secCruise):\n",
        "  # Returns a boolean array of the same lenght of alt.\n",
        "  # True value in position i means that in that moment the airplane was\n",
        "  # cruising for at least 95% of the previous secCruise seconds.\n",
        "  local_df = pd.DataFrame(df.alt.copy())\n",
        "  local_df['cruise'] = False\n",
        "  local_df['parCruise'] = False\n",
        "  # using a moving mean on delta seconds\n",
        "  local_df['meanAlt'] = local_df.alt.rolling(delta).mean()\n",
        "  local_df['meanAltDiff'] = local_df.meanAlt.diff()\n",
        "\n",
        "  for i in range(secCruise+1, len(df)):\n",
        "    if abs(local_df.meanAltDiff.iloc[i]) < meanV:\n",
        "        local_df.parCruise.iat[i] = True\n",
        "        if local_df.parCruise.iloc[i-secCruise:i].mean() > 0.95:\n",
        "            local_df.cruise.iat[i] = True\n",
        "  return df[local_df.cruise]\n",
        "\n",
        "\n",
        "def filter_cruise_list(dfs: list, delta: int, meanV: int, secCruise: int):\n",
        "  \"\"\"\n",
        "  Takes the dfs list and returns a new dfs list with dataframe element in which values are filtered on the cruising \n",
        "  altitude.\n",
        "  Parameters\n",
        "  ---\n",
        "  dfs : the dfs list\n",
        "  delta : how many seconds the altitude gets mediated before looking at the altitude variation\n",
        "  meanV : max mean variation accepted on the delta seconds before\n",
        "  secCruise : at least 95% of secCruise consecutive seconds an altitude needs to be stable before considering it\n",
        "    cruising.\n",
        "  \"\"\"\n",
        "  \n",
        "  final_dfs = []\n",
        "  for df in tqdm(dfs):\n",
        "    final_dfs.append(filter_cruise_alt(df[df.alt>10000], delta, meanV, secCruise))\n",
        "  return final_dfs\n",
        "\n",
        "def add_cond_features(dfs):\n",
        "  new_dfs = []\n",
        "  for df in dfs:\n",
        "    new_df = df.copy()\n",
        "    new_df['alt_diff'] = df.alt.diff()\n",
        "    new_df['Mach_diff'] = df.Mach.diff()\n",
        "    new_df['TRA_diff'] = df.TRA.diff()\n",
        "    new_df['T2_diff'] = df.T2.diff()\n",
        "    new_dfs.append(new_df)\n",
        "  return new_dfs"
      ],
      "metadata": {
        "id": "OgVFS2TqkGnz"
      },
      "execution_count": null,
      "outputs": []
    },
    {
      "cell_type": "code",
      "source": [
        "base_path = '/content/drive/MyDrive/Colab Notebooks/progetto_manutenzione/dataset/'\n",
        "#filenames = [\"N-CMAPSS_DS01-005.h5\", \"N-CMAPSS_DS02-006.h5\", \"N-CMAPSS_DS03-012.h5\", \"N-CMAPSS_DS04.h5\", \"N-CMAPSS_DS05.h5\", \"N-CMAPSS_DS06.h5\", \"N-CMAPSS_DS07.h5\", \"N-CMAPSS_DS08a-009.h5\", \"N-CMAPSS_DS08c-008.h5\"];\n",
        "filenames = [\"N-CMAPSS_DS01-005.h5\" , \"N-CMAPSS_DS02-006.h5\", \"N-CMAPSS_DS05.h5\"]\n",
        "\n",
        "# dfs is a list containing the tables for each file of the dataset\n",
        "dfs = list()\n",
        "for filename in tqdm(filenames):\n",
        "  path = base_path + filename\n",
        "  local_df = extract_df(path, train=True)\n",
        "  dfs.append(local_df.iloc[::])"
      ],
      "metadata": {
        "id": "fPcb7o1epsuM"
      },
      "execution_count": null,
      "outputs": []
    },
    {
      "cell_type": "markdown",
      "source": [
        "## Cruising filtering"
      ],
      "metadata": {
        "id": "3th4qdNl-0mm"
      }
    },
    {
      "cell_type": "code",
      "source": [
        "cycle_sampling_rate = 1\n",
        "\n",
        "# dfs_sep the list of tables each containing a cycle\n",
        "# dfs_cruise is the list of tables each containing a filtered cycle on the altitude\n",
        "dfs_sep = get_cycle_list(dfs)\n",
        "dfs_sep = add_cond_features(dfs_sep)\n",
        "dfs_cruise = filter_cruise_list(dfs_sep[0::cycle_sampling_rate], 30, 2, 60)"
      ],
      "metadata": {
        "id": "Aj41fjO7fojk"
      },
      "execution_count": null,
      "outputs": []
    },
    {
      "cell_type": "markdown",
      "source": [
        "# Standardization and PCA\n",
        "FOR CONDITION\n",
        "(for data will be done inside the RNN model)"
      ],
      "metadata": {
        "id": "w8kfwHowVXl5"
      }
    },
    {
      "cell_type": "code",
      "source": [
        "from sklearn import preprocessing, decomposition\n",
        "\n",
        "# random state for reproducibility\n",
        "rs = 1\n",
        "\n",
        "# remove and saving label from training data\n",
        "x_train = pd.concat(dfs_cruise)\n",
        "y_train = x_train.pop('RUL')\n",
        "\n",
        "# extract conditions\n",
        "condition = x_train[['alt', 'Mach', 'TRA', 'T2',\n",
        "                     'alt_diff', 'Mach_diff', 'TRA_diff', 'T2_diff', 'hs', 'cycle']]\n",
        "\n",
        "# condition = x_train[['cycle', 'Nf', 'Nc', 'Wf']]\n",
        "x_train = x_train.to_numpy()\n",
        "y_train = y_train.to_numpy()\n",
        "condition = condition.to_numpy()\n",
        "\n",
        "# scaler and pca object for condition\n",
        "cond_scaler = preprocessing.StandardScaler().fit(condition)\n",
        "cond_pca = decomposition.PCA(n_components=0.95, random_state=rs).fit(condition)\n",
        "\n",
        "\n",
        "condition_transformed = cond_pca.transform(cond_scaler.transform(condition))\n",
        "condition_transformed"
      ],
      "metadata": {
        "id": "lHeSnWtqVXSr"
      },
      "execution_count": null,
      "outputs": []
    },
    {
      "cell_type": "markdown",
      "source": [
        "# Clustering"
      ],
      "metadata": {
        "id": "O2C3ZipCVc24"
      }
    },
    {
      "cell_type": "code",
      "source": [
        "from sklearn.cluster import KMeans\n",
        "rs = 1\n",
        "n_cluster = 3\n",
        "kmeans = KMeans(n_clusters=n_cluster, random_state=rs).fit(condition_transformed)\n",
        "cluster_result = kmeans.predict(condition_transformed)"
      ],
      "metadata": {
        "id": "grYZzMrvP3id"
      },
      "execution_count": null,
      "outputs": []
    },
    {
      "cell_type": "markdown",
      "source": [
        "## Evaluation and selection"
      ],
      "metadata": {
        "id": "b7DAo5M-2H8W"
      }
    },
    {
      "cell_type": "code",
      "source": [
        "from sklearn.cluster import KMeans\n",
        "import matplotlib.pyplot as plt\n",
        "from yellowbrick.cluster import SilhouetteVisualizer\n",
        "\n",
        "range_n_clusters = [3, 4, 5, 6, 7]\n",
        "# sampling rate for silhouette evauation \n",
        "clustering_sampling_rate = 10\n",
        "\n",
        "def silhouette_score_visualizer(dataset, n_cluster):\n",
        "  # Instantiate the clustering model and visualizer\n",
        "  visualizer = SilhouetteVisualizer(KMeans(n_clusters = n_cluster, max_iter = 300, random_state = rs),colors='yellowbrick')\n",
        "\n",
        "  plt.figure(figsize=(15,8))\n",
        "  #print(x_3d.drop(\"pred\",axis=1))\n",
        "  visualizer.fit(dataset)        # Fit the data to the visualizer\n",
        "  visualizer.show()        # Finalize and render the figure\n",
        "\n",
        "for n_cluster in range_n_clusters:\n",
        "  print(f'loading silhouette with {n_cluster} cluster')\n",
        "  silhouette_score_visualizer(condition_transformed[0::clustering_sampling_rate], n_cluster)"
      ],
      "metadata": {
        "id": "CNdMLQ8jqSy9"
      },
      "execution_count": null,
      "outputs": []
    },
    {
      "cell_type": "markdown",
      "source": [
        "We select Kmeans with **3** clusters"
      ],
      "metadata": {
        "id": "D1uLQp502_wM"
      }
    },
    {
      "cell_type": "markdown",
      "source": [
        "## Visualization"
      ],
      "metadata": {
        "id": "aUVYVXDq2OTS"
      }
    },
    {
      "cell_type": "code",
      "source": [
        "from sklearn.cluster import KMeans\n",
        "import seaborn as sns\n",
        "import matplotlib.pyplot as plt\n",
        "\n",
        "n_cluster = 3\n",
        "kmeans = KMeans(n_clusters=n_cluster, random_state=rs).fit(condition_transformed)\n",
        "\n",
        "cluster_result = kmeans.predict(condition_transformed)\n",
        "\n",
        "res = pd.concat(dfs_cruise).reset_index(drop = True)\n",
        "res['cluster'] = cluster_result\n",
        "res = res[0::100]"
      ],
      "metadata": {
        "id": "W5oQtTzecTnV"
      },
      "execution_count": null,
      "outputs": []
    },
    {
      "cell_type": "code",
      "source": [
        "for col in res.columns:\n",
        "  plt.figure()\n",
        "  sns.scatterplot(x = res.cycle, y = res[col], hue = res.cluster)"
      ],
      "metadata": {
        "id": "MJjfEsd6WguM"
      },
      "execution_count": null,
      "outputs": []
    },
    {
      "cell_type": "markdown",
      "source": [
        "# RNN model training"
      ],
      "metadata": {
        "id": "18BtKEHUs6gJ"
      }
    },
    {
      "cell_type": "markdown",
      "source": [
        "The following class defines methods and attributes to pre-process each flight inside each run-to-failure profile."
      ],
      "metadata": {
        "id": "IU36VqXClT7i"
      }
    },
    {
      "cell_type": "code",
      "source": [
        "kmeans = load(dumps_path+'/kmeans')\n",
        "cond_scaler = load(dumps_path+'/cond_scaler')\n",
        "cond_pca = load(dumps_path+'/cond_pca')\n",
        "\n",
        "class Cycle:\n",
        "  def __init__(self):\n",
        "    self.cycle = pd.DataFrame()\n",
        "    self.cruise = pd.DataFrame()\n",
        "    self.condition = pd.DataFrame()\n",
        "    self.cluster_point_list = [[]]\n",
        "    self.rul_est_list = [[]]\n",
        "    self.final_rul = int()\n",
        "    self.cluster = []\n",
        "  \n",
        "  def transform_condition(self, pca_model, scaler_model):\n",
        "    self.condition = self.condition.to_numpy()\n",
        "    self.condition = pca_model.transform(scaler_model.transform(self.condition))\n",
        "  \n",
        "  def predict_cluster(self, kmeans_model):\n",
        "    self.cluster\n",
        "\n",
        "  def create_cluster_list(self, n_cluster, train=True):\n",
        "    cluster_list = [[] for x in range(n_cluster)]\n",
        "    begin_ts_indexes = find_begin_ts_indexes(self.cruise)\n",
        "    if len(begin_ts_indexes) > 1:\n",
        "      for i in range(0, len(begin_ts_indexes)-1):\n",
        "        start_id = begin_ts_indexes[i]\n",
        "        end_id = begin_ts_indexes[i+1]\n",
        "        cluster = self.cruise.cluster.iloc[start_id:end_id].value_counts().idxmax()\n",
        "        cluster_list[cluster].append([start_id, end_id])\n",
        "    start_id = begin_ts_indexes[-1]\n",
        "    end_id = len(self.cruise)\n",
        "   # print(end_id)\n",
        "    cluster = self.cruise.cluster.iloc[start_id:end_id].value_counts().idxmax()\n",
        "    cluster_list[cluster].append([start_id, end_id])\n",
        "    self.cluster_index_list = cluster_list\n",
        "    \n",
        "    if train:\n",
        "      self.cycle = None\n",
        "      self.condition = None\n",
        "\n",
        "  @property\n",
        "  def cluster_list(self):\n",
        "    cluster_list = []\n",
        "    for c in self.cluster_index_list:\n",
        "      cluster_list.append([self.cruise.iloc[s:e] for [s,e] in c])\n",
        "    return cluster_list"
      ],
      "metadata": {
        "id": "6itkXXadjv-W"
      },
      "execution_count": null,
      "outputs": []
    },
    {
      "cell_type": "markdown",
      "source": [
        "We're going to upload all h5 files."
      ],
      "metadata": {
        "id": "Yd0RQVQlldg0"
      }
    },
    {
      "cell_type": "code",
      "source": [
        "filenames = [\"N-CMAPSS_DS01-005.h5\", \"N-CMAPSS_DS02-006.h5\", \"N-CMAPSS_DS03-012.h5\", \"N-CMAPSS_DS04.h5\", \"N-CMAPSS_DS05.h5\", \"N-CMAPSS_DS06.h5\", \"N-CMAPSS_DS07.h5\", \"N-CMAPSS_DS08a-009.h5\", \"N-CMAPSS_DS08c-008.h5\"];\n",
        "#filenames = [\"N-CMAPSS_DS01-005.h5\"]\n",
        "dfs = list()\n",
        "for filename in tqdm(filenames):\n",
        "  path = base_path + filename\n",
        "  local_df = extract_df(path, train=True)\n",
        "  dfs.append(local_df)\n",
        "\n",
        "dfs_sep = get_cycle_list(dfs)"
      ],
      "metadata": {
        "id": "1m5bsPBaj3xm"
      },
      "execution_count": null,
      "outputs": []
    },
    {
      "cell_type": "code",
      "source": [
        "cycle_sampling_rate = 1\n",
        "cycle_list = [Cycle() for n in range(0, len(dfs_sep), cycle_sampling_rate)]\n",
        "for n in tqdm(range(0, len(cycle_list))):\n",
        "  local_cycle = cycle_list[n]\n",
        "  local_cycle.cycle = add_cond_features([dfs_sep[n]])[0]\n",
        "  local_cycle.cruise = filter_cruise_alt(local_cycle.cycle, 30, 2, 60)\n",
        "  local_cycle.condition = local_cycle.cruise[['alt', 'Mach', 'TRA', 'T2',\n",
        "                     'alt_diff', 'Mach_diff', 'TRA_diff', 'T2_diff', 'hs', 'cycle']]\n",
        "  local_cycle.transform_condition(cond_pca, cond_scaler)\n",
        "  local_cycle.cruise.insert(loc = 0, column='cluster', value=kmeans.predict(local_cycle.condition))\n",
        "  local_cycle.create_cluster_list(kmeans.n_clusters)\n",
        "\n",
        "import pickle\n",
        "\n",
        "# save the list of objects\n",
        "with open(dumps_path + 'cycle_list.pickle', 'wb') as f:\n",
        "    pickle.dump(cycle_list, f)\n"
      ],
      "metadata": {
        "id": "cBCbEkikkCxC"
      },
      "execution_count": null,
      "outputs": []
    },
    {
      "cell_type": "markdown",
      "source": [
        "## LOAD CYCLE LIST"
      ],
      "metadata": {
        "id": "l4LOYDBySmBr"
      }
    },
    {
      "cell_type": "markdown",
      "source": [
        "We can import the previous processed cycle_list"
      ],
      "metadata": {
        "id": "cBXPSO70sWOv"
      }
    },
    {
      "cell_type": "code",
      "source": [
        "# reload the list of cycles\n",
        "with open(dumps_path + 'cycle_list.pickle', 'rb') as f:\n",
        "    cycle_list = pickle.load(f)"
      ],
      "metadata": {
        "id": "OKQQjiN8sB_H"
      },
      "execution_count": null,
      "outputs": []
    },
    {
      "cell_type": "markdown",
      "source": [
        "Example for printing the stable cruise of the airplane"
      ],
      "metadata": {
        "id": "CFq8pMuWGZ09"
      }
    },
    {
      "cell_type": "markdown",
      "source": [
        "## MINMAX"
      ],
      "metadata": {
        "id": "2SoH5U02K3EN"
      }
    },
    {
      "cell_type": "markdown",
      "source": [
        "Now we need to build tensors to be used for training. "
      ],
      "metadata": {
        "id": "S1xqWLeAGhVK"
      }
    },
    {
      "cell_type": "code",
      "source": [
        "list_drop_columns = ['RUL','cluster']\n",
        "\n",
        "def str_columns(df):\n",
        " for col in df.columns:\n",
        "    df.rename(columns={col: str(col)}, inplace=True)"
      ],
      "metadata": {
        "id": "eV1B_icSS-qX"
      },
      "execution_count": null,
      "outputs": []
    },
    {
      "cell_type": "markdown",
      "source": [
        "We're going to fit the MinMaxScaler for each cluster we defined."
      ],
      "metadata": {
        "id": "OLl51DJJGlxp"
      }
    },
    {
      "cell_type": "code",
      "source": [
        "final_lists=[[] for x in range(kmeans.n_clusters)]\n",
        "min_max_scalers=[MinMaxScaler() for x in range(kmeans.n_clusters)]\n",
        "\n",
        "for i in range (len(cycle_list)):\n",
        "   all_list_df = cycle_list[i].cluster_list\n",
        "   for j in range(len(all_list_df)):\n",
        "    single_list_df = cycle_list[i].cluster_list[j]\n",
        "    for single_df in single_list_df:\n",
        "      \n",
        "        cluster = j\n",
        "        \n",
        "\n",
        "        final_lists[cluster].append(single_df)\n",
        "\n",
        "# concatenate all the rows for each cluster\n",
        "# fit then the MinMaxScaler \n",
        "for j in range(len(final_lists)):\n",
        "   final_lists[j] = pd.concat(final_lists[j], axis=0, ignore_index=True).drop(columns=list_drop_columns)\n",
        "   str_columns(final_lists[j])\n",
        "   min_max_scalers[j] = min_max_scalers[j].fit(final_lists[j])\n",
        "\n",
        "# save the list of MinMaxScalers\n",
        "with open(dumps_path + 'minmaxscalers.pickle', 'wb') as f:\n",
        "    pickle.dump(min_max_scalers, f)\n",
        "  "
      ],
      "metadata": {
        "id": "jLCreBXAKtWF"
      },
      "execution_count": null,
      "outputs": []
    },
    {
      "cell_type": "markdown",
      "source": [
        "## LOAD MINMAXSCALER(s)"
      ],
      "metadata": {
        "id": "pJqSIXpNT-6b"
      }
    },
    {
      "cell_type": "markdown",
      "source": [
        "We can import the fitted MinMaxScalers from local storage"
      ],
      "metadata": {
        "id": "VgpZCmegHA9U"
      }
    },
    {
      "cell_type": "code",
      "source": [
        "# reload the list of MinMaxScalers\n",
        "with open(dumps_path + 'minmaxscalers.pickle', 'rb') as f:\n",
        "    min_max_scalers = pickle.load(f)\n",
        "\n",
        "#print(min_max_scalers[0].scale_)\n",
        "#print(min_max_scalers[1].scale_)\n",
        "#print(min_max_scalers[2].scale_)"
      ],
      "metadata": {
        "id": "UnR0KjaZNCxa"
      },
      "execution_count": null,
      "outputs": []
    },
    {
      "cell_type": "markdown",
      "source": [
        "## CREATING TENSORS FROM DATAFRAMES"
      ],
      "metadata": {
        "id": "jh6HkBaFgcNH"
      }
    },
    {
      "cell_type": "markdown",
      "source": [
        "We're going to create a list of tensors and targets, for each cluster, for each time series.\n",
        "In this way, we'll have, for each cluster, a list of ready normalized data , with the relative RUL, that will be used to train 3 different CNNs using PyTorch"
      ],
      "metadata": {
        "id": "jRpH2lDCHGEi"
      }
    },
    {
      "cell_type": "code",
      "source": [
        "def get_cluster_time_series(c_list):\n",
        "  all_tensors=[[] for x in range(kmeans.n_clusters)]\n",
        "  all_targets=[[] for x in range(kmeans.n_clusters)]\n",
        "\n",
        "  # get all cycles\n",
        "  for i in range (len(c_list)):\n",
        "    all_list_df = c_list[i].cluster_list\n",
        "\n",
        "    # get all time series for each cluster of the specific cycle\n",
        "    for j in range(len(all_list_df)):\n",
        "      single_list_df = c_list[i].cluster_list[j]\n",
        "\n",
        "      # get the single time series \n",
        "      for single_df in single_list_df:\n",
        "\n",
        "          rul = single_df.iloc[0].RUL\n",
        "          \n",
        "          cluster = j\n",
        "\n",
        "          # save the rul for this time series\n",
        "          all_targets[cluster].append(rul)\n",
        "\n",
        "          new_df = single_df.drop(columns=list_drop_columns)\n",
        "          str_columns(new_df)\n",
        "\n",
        "          # normalize data using the MinMaxScaler of cluster j\n",
        "          new_df = min_max_scalers[cluster].transform(new_df)\n",
        "      \n",
        "          # create the float tensor that will be used to train the CNN\n",
        "          tensor = torch.from_numpy(new_df).float().permute(1,0)\n",
        "          \n",
        "          # save the tensor\n",
        "          all_tensors[cluster].append(tensor)\n",
        "\n",
        "  return all_tensors, all_targets\n",
        "\n"
      ],
      "metadata": {
        "id": "_Z7JAFuAgIoA"
      },
      "execution_count": null,
      "outputs": []
    },
    {
      "cell_type": "code",
      "source": [
        "all_tensors, all_targets = get_cluster_time_series(cycle_list)\n",
        "\n",
        "# we'll have many list of tensors, one for each cluster\n",
        "# save the list of tensors on storage\n",
        "with open(dumps_path + 'training_tensors.pickle', 'wb') as f:\n",
        "    pickle.dump([all_tensors, all_targets], f)"
      ],
      "metadata": {
        "id": "huYR5vqlQSXe"
      },
      "execution_count": null,
      "outputs": []
    },
    {
      "cell_type": "markdown",
      "source": [
        "## LOAD TRAINING DATA"
      ],
      "metadata": {
        "id": "AoHxUURTUDM6"
      }
    },
    {
      "cell_type": "markdown",
      "source": [
        "We can import the tensors for training from the storage"
      ],
      "metadata": {
        "id": "KjiwJlYuHyRw"
      }
    },
    {
      "cell_type": "code",
      "source": [
        "# reload the list of training data tensors\n",
        "with open(dumps_path + 'training_tensors.pickle', 'rb') as f:\n",
        "    training_data = pickle.load(f)\n",
        "\n",
        "all_tensors = training_data[0]\n",
        "all_targets = training_data[1]\n",
        "\n",
        "print(len(all_tensors[1]), len(all_targets[1]))\n",
        "print(len(all_tensors[2]), len(all_targets[2]))\n",
        "print(len(all_tensors[0]), len(all_targets[0]))\n",
        "\n",
        "print(all_tensors[0][0][:5])"
      ],
      "metadata": {
        "id": "gcEVgYM8xtqX",
        "colab": {
          "base_uri": "https://localhost:8080/"
        },
        "outputId": "75fdd1e5-9dd7-4d87-8908-b039d1366a8a"
      },
      "execution_count": null,
      "outputs": [
        {
          "output_type": "stream",
          "name": "stdout",
          "text": [
            "11788 11788\n",
            "4984 4984\n",
            "3078 3078\n",
            "tensor([[0.5649, 0.5650, 0.5650,  ..., 0.5584, 0.5580, 0.5576],\n",
            "        [0.4071, 0.4087, 0.4075,  ..., 0.7850, 0.7846, 0.7846],\n",
            "        [0.9074, 0.9074, 0.9074,  ..., 0.8270, 0.8225, 0.8164],\n",
            "        [0.4338, 0.4343, 0.4339,  ..., 0.5716, 0.5718, 0.5720],\n",
            "        [0.0526, 0.0526, 0.0526,  ..., 0.0526, 0.0526, 0.0526]])\n"
          ]
        }
      ]
    },
    {
      "cell_type": "markdown",
      "source": [
        "# LOAD VALIDATION DATA"
      ],
      "metadata": {
        "id": "UOtdWskPWFLu"
      }
    },
    {
      "cell_type": "code",
      "source": [
        "kmeans = load(dumps_path+'/kmeans')\n",
        "cond_scaler = load(dumps_path+'/cond_scaler')\n",
        "cond_pca = load(dumps_path+'/cond_pca')"
      ],
      "metadata": {
        "id": "t35y3ktdW3r2"
      },
      "execution_count": null,
      "outputs": []
    },
    {
      "cell_type": "markdown",
      "source": [
        "We're going to load h5 files for validation "
      ],
      "metadata": {
        "id": "UP2KGoiAlwUc"
      }
    },
    {
      "cell_type": "code",
      "source": [
        "def get_val_h5(filenames):\n",
        "    test_filenames = filenames\n",
        "\n",
        "    dfs_test = list()\n",
        "    for filename in tqdm(test_filenames):\n",
        "      path = base_path + filename\n",
        "      local_df = extract_df(path, train=False)\n",
        "      dfs_test.append(local_df)\n",
        "\n",
        "    return get_cycle_list(dfs_test)\n",
        "\n",
        "dfs_val_sep = get_val_h5([\"N-CMAPSS_DS01-005.h5\", \"N-CMAPSS_DS02-006.h5\", \"N-CMAPSS_DS03-012.h5\", \"N-CMAPSS_DS04.h5\", \"N-CMAPSS_DS05.h5\", \"N-CMAPSS_DS06.h5\", \"N-CMAPSS_DS07.h5\", \"N-CMAPSS_DS08a-009.h5\", \"N-CMAPSS_DS08c-008.h5\"])"
      ],
      "metadata": {
        "id": "cgGQ_sNgyVcj",
        "colab": {
          "base_uri": "https://localhost:8080/"
        },
        "outputId": "2cfc7420-0021-46ba-b75d-437b6fd9e794"
      },
      "execution_count": null,
      "outputs": [
        {
          "output_type": "stream",
          "name": "stderr",
          "text": [
            "100%|██████████| 9/9 [00:13<00:00,  1.46s/it]\n"
          ]
        }
      ]
    },
    {
      "cell_type": "markdown",
      "source": [
        "Creates, for each flight (cycle) of each run-to-failure profile, the Cycle() object"
      ],
      "metadata": {
        "id": "jGBxh7gUKbma"
      }
    },
    {
      "cell_type": "code",
      "source": [
        "def get_val_cycle_list(dfs_test_sep, filename):\n",
        "  # defines how many cycles will be skipped each time\n",
        "  # 1 means it takes all the cycles\n",
        "  test_sampling_rate = 1 \n",
        "  cycle_test_list = [Cycle() for n in range(0, len(dfs_test_sep), test_sampling_rate)]\n",
        "  for n in tqdm(range(0, len(cycle_test_list))):\n",
        "    local_cycle = cycle_test_list[n]\n",
        "    local_cycle.cycle = add_cond_features([dfs_test_sep[n]])[0]\n",
        "    local_cycle.cruise = filter_cruise_alt(local_cycle.cycle, 30, 2, 60)\n",
        "    \n",
        "    if len(local_cycle.cruise) == 0:\n",
        "      print()\n",
        "      non_missing_df = local_cycle.cycle.dropna()\n",
        "      local_cycle.cruise = non_missing_df[non_missing_df['alt'] >= 10000]\n",
        "      print(\"found empty local_cycle.cruise\")\n",
        "      print(\"taking only flights above 10.000 feets\")\n",
        "\n",
        "    local_cycle.condition = local_cycle.cruise[['alt', 'Mach', 'TRA', 'T2',\n",
        "                      'alt_diff', 'Mach_diff', 'TRA_diff', 'T2_diff', 'hs', 'cycle']]\n",
        "    local_cycle.transform_condition(cond_pca, cond_scaler)\n",
        "    local_cycle.cruise.insert(loc = 0, column='cluster', value=kmeans.predict(local_cycle.condition))\n",
        "    local_cycle.create_cluster_list(kmeans.n_clusters, train=False)\n",
        "\n",
        "  # save the list of objects\n",
        "  with open(dumps_path + filename, 'wb') as f:\n",
        "      pickle.dump(cycle_test_list, f)\n",
        "  \n",
        "  return cycle_test_list\n",
        "\n",
        "cycle_val_list = get_val_cycle_list(dfs_val_sep, 'cycle_val_list.pickle')"
      ],
      "metadata": {
        "id": "xxVni-X7MUOQ",
        "colab": {
          "base_uri": "https://localhost:8080/"
        },
        "outputId": "91687f2d-6b57-4901-9d9e-def26853f8ca"
      },
      "execution_count": null,
      "outputs": [
        {
          "output_type": "stream",
          "name": "stderr",
          "text": [
            " 14%|█▍        | 400/2908 [08:32<39:42,  1.05it/s]"
          ]
        },
        {
          "output_type": "stream",
          "name": "stdout",
          "text": [
            "\n",
            "found empty local_cycle.cruise\n",
            "taking only flights above 10.000 feets\n"
          ]
        },
        {
          "output_type": "stream",
          "name": "stderr",
          "text": [
            " 14%|█▍        | 407/2908 [08:35<23:00,  1.81it/s]"
          ]
        },
        {
          "output_type": "stream",
          "name": "stdout",
          "text": [
            "\n",
            "found empty local_cycle.cruise\n",
            "taking only flights above 10.000 feets\n"
          ]
        },
        {
          "output_type": "stream",
          "name": "stderr",
          "text": [
            " 14%|█▍        | 412/2908 [08:36<13:39,  3.05it/s]"
          ]
        },
        {
          "output_type": "stream",
          "name": "stdout",
          "text": [
            "\n",
            "found empty local_cycle.cruise\n",
            "taking only flights above 10.000 feets\n"
          ]
        },
        {
          "output_type": "stream",
          "name": "stderr",
          "text": [
            " 14%|█▍        | 420/2908 [08:40<15:51,  2.61it/s]"
          ]
        },
        {
          "output_type": "stream",
          "name": "stdout",
          "text": [
            "\n",
            "found empty local_cycle.cruise\n",
            "taking only flights above 10.000 feets\n"
          ]
        },
        {
          "output_type": "stream",
          "name": "stderr",
          "text": [
            " 15%|█▌        | 447/2908 [08:51<09:57,  4.12it/s]"
          ]
        },
        {
          "output_type": "stream",
          "name": "stdout",
          "text": [
            "\n",
            "found empty local_cycle.cruise\n",
            "taking only flights above 10.000 feets\n",
            "\n",
            "found empty local_cycle.cruise\n",
            "taking only flights above 10.000 feets\n"
          ]
        },
        {
          "output_type": "stream",
          "name": "stderr",
          "text": [
            "100%|██████████| 2908/2908 [1:00:49<00:00,  1.25s/it]\n"
          ]
        }
      ]
    },
    {
      "cell_type": "markdown",
      "source": [
        "## CREATE VAL TENSORS\n",
        "It creates the tensors for validation, with their RULs (targets), and save them locally."
      ],
      "metadata": {
        "id": "2Q34gdFhLEmd"
      }
    },
    {
      "cell_type": "code",
      "source": [
        "all_val_tensors, all_val_targets = get_cluster_time_series(cycle_val_list)\n",
        "\n",
        "# save the list of objects\n",
        "with open(dumps_path + 'validation_tensors.pickle', 'wb') as f:\n",
        "    pickle.dump([all_val_tensors, all_val_targets], f)"
      ],
      "metadata": {
        "id": "sMQs7j0hWQiK"
      },
      "execution_count": null,
      "outputs": []
    },
    {
      "cell_type": "markdown",
      "source": [
        "## LOAD VAL CYCLE LIST"
      ],
      "metadata": {
        "id": "0SahTAnsoBPR"
      }
    },
    {
      "cell_type": "markdown",
      "source": [
        "We can reload the Cycle() list of objects for each flight"
      ],
      "metadata": {
        "id": "bKFTkJG3LQZi"
      }
    },
    {
      "cell_type": "code",
      "source": [
        "# reload the list of cycles\n",
        "with open(dumps_path + 'cycle_val_list.pickle', 'rb') as f:\n",
        "    cycle_val_list = pickle.load(f)"
      ],
      "metadata": {
        "id": "MKCX8uL5X-gP"
      },
      "execution_count": null,
      "outputs": []
    },
    {
      "cell_type": "code",
      "source": [
        "cycle_val_list[0].cycle.columns"
      ],
      "metadata": {
        "colab": {
          "base_uri": "https://localhost:8080/"
        },
        "id": "RVcNR4S8bKIc",
        "outputId": "ecb2fa34-89a7-4b55-950f-ffed9b71138e"
      },
      "execution_count": null,
      "outputs": [
        {
          "output_type": "execute_result",
          "data": {
            "text/plain": [
              "Index(['RUL', 'alt', 'Mach', 'TRA', 'T2', 'unit', 'cycle', 'Fc', 'hs', 'T24',\n",
              "       'T30', 'T48', 'T50', 'P15', 'P2', 'P21', 'P24', 'Ps30', 'P40', 'P50',\n",
              "       'Nf', 'Nc', 'Wf', 'alt_diff', 'Mach_diff', 'TRA_diff', 'T2_diff'],\n",
              "      dtype='object')"
            ]
          },
          "metadata": {},
          "execution_count": 73
        }
      ]
    },
    {
      "cell_type": "code",
      "source": [
        "cycle_val_list[0].cruise.columns"
      ],
      "metadata": {
        "colab": {
          "base_uri": "https://localhost:8080/"
        },
        "id": "F4kbYbmfaeiP",
        "outputId": "f60c5f0b-085f-48cb-acbe-62ea4cf82553"
      },
      "execution_count": null,
      "outputs": [
        {
          "output_type": "execute_result",
          "data": {
            "text/plain": [
              "Index(['cluster', 'RUL', 'alt', 'Mach', 'TRA', 'T2', 'unit', 'cycle', 'Fc',\n",
              "       'hs', 'T24', 'T30', 'T48', 'T50', 'P15', 'P2', 'P21', 'P24', 'Ps30',\n",
              "       'P40', 'P50', 'Nf', 'Nc', 'Wf', 'alt_diff', 'Mach_diff', 'TRA_diff',\n",
              "       'T2_diff'],\n",
              "      dtype='object')"
            ]
          },
          "metadata": {},
          "execution_count": 74
        }
      ]
    },
    {
      "cell_type": "markdown",
      "source": [
        "## LOAD VAL TENSORS"
      ],
      "metadata": {
        "id": "Uib4qtanoDDw"
      }
    },
    {
      "cell_type": "markdown",
      "source": [
        "We can reload the validation tensors (and targets)"
      ],
      "metadata": {
        "id": "MISjJa22Lc8C"
      }
    },
    {
      "cell_type": "code",
      "source": [
        "# reload the list of training data\n",
        "with open(dumps_path + 'validation_tensors.pickle', 'rb') as f:\n",
        "    val_data = pickle.load(f)\n",
        "\n",
        "all_val_tensors = val_data[0]\n",
        "all_val_targets = val_data[1]"
      ],
      "metadata": {
        "id": "feoOdI0dWoS9"
      },
      "execution_count": null,
      "outputs": []
    },
    {
      "cell_type": "code",
      "source": [
        "print(len(all_val_tensors[0]))\n",
        "print(len(all_val_tensors[1]))\n",
        "print(len(all_val_tensors[2]))"
      ],
      "metadata": {
        "id": "Ur6erXteaKO5",
        "colab": {
          "base_uri": "https://localhost:8080/"
        },
        "outputId": "20e73baa-c1f7-4fc8-df60-192429c2c7b0"
      },
      "execution_count": null,
      "outputs": [
        {
          "output_type": "stream",
          "name": "stdout",
          "text": [
            "1629\n",
            "7659\n",
            "2471\n"
          ]
        }
      ]
    },
    {
      "cell_type": "markdown",
      "source": [
        "# TRAINING AND TESTING"
      ],
      "metadata": {
        "id": "AIKfd9WHK0QE"
      }
    },
    {
      "cell_type": "markdown",
      "source": [
        "## BATCHES"
      ],
      "metadata": {
        "id": "GkyvTPrdXv3w"
      }
    },
    {
      "cell_type": "code",
      "source": [
        "import random\n",
        "import math\n",
        "import os"
      ],
      "metadata": {
        "id": "bNecJZc4VTwr"
      },
      "execution_count": null,
      "outputs": []
    },
    {
      "cell_type": "markdown",
      "source": [
        "The following function tries to make the training deterministic for a specific GPU, but we'll not use it"
      ],
      "metadata": {
        "id": "6dt9VUcFLpX4"
      }
    },
    {
      "cell_type": "code",
      "source": [
        "def seed_everything(seed=1234):\n",
        "    \n",
        "    random.seed(seed)\n",
        "    os.environ['PYTHONHASHSEED'] = str(seed)\n",
        "    np.random.seed(seed)\n",
        "    torch.manual_seed(seed)\n",
        "    torch.cuda.manual_seed_all(seed)\n",
        "    torch.backends.cudnn.deterministic = True\n",
        "    torch.backends.cudnn.benchmark = False\n",
        "    os.environ['CUBLAS_WORKSPACE_CONFIG'] = \":16:8\"\n",
        "    torch.use_deterministic_algorithms(True)\n"
      ],
      "metadata": {
        "id": "IuEIGlP2Xcll"
      },
      "execution_count": null,
      "outputs": []
    },
    {
      "cell_type": "markdown",
      "source": [
        "The following functions will define how to create the batches for training and/or validation. \n",
        "\n",
        "For the creation of batches, we first order all the time series provided by decreasing length (duration in seconds). In this way, if the batch has a size of 32, we try to include all time series of similar length inside the batch.\n",
        "However, it may happen that a time series in the batch is longer than all the others. In this case, we make the other time series in the batch as long as the last one, thus uniforming the lengths. To make a time series longer by x seconds, we use zero-padding, i.e. we add x zeros at the beginning of the time sequence, for each feature.\n",
        "\n",
        "After this, within that batch, if all the time series of uniform length are longer than a certain window time y expressed in seconds, each one will be divided into sub-time series of duration y seconds. For example, if a time series has a length of 3000 seconds and the time window is 1000 seconds, then it will be divided into 3 time series of 1000 seconds each.\n",
        "Due to this, the size of the batch can increase beyond the \"batch_size\" limit, so new batches will be generated with the time series thus created.\n",
        "For example, if we had a batch of size 16, and all the time series were 3000 seconds long, dividing each into 3 sub-time series of 1000 seconds, we would have 16*3 = 48 time series in the single batch. Then, every 16 time series, a new batch will be created. Therefore, instead of a single batch of 16, in the end we will have 3 batches of 16."
      ],
      "metadata": {
        "id": "pkDgZAalLxaS"
      }
    },
    {
      "cell_type": "code",
      "source": [
        "\n",
        "# define how to do the zero-padding\n",
        "# adds zeros at the beginning of the tensor to increase the lenght of all its features\n",
        "# min_val is the minimum length in seconds that the time series must have\n",
        "# max_val is the max length in seconds that the time series must have\n",
        "def pad_tensor(tensor, min_val=10, max_val=None):\n",
        "  shape_1 = tensor.shape[1]\n",
        "  shape_0 = tensor.shape[0]\n",
        "  old_values = tensor[:,0].unsqueeze(1)\n",
        "  if max_val == None:\n",
        "    if shape_1 < min_val:\n",
        "      return torch.cat([torch.ones(shape_0, min_val - shape_1) * 0, tensor], dim=1)\n",
        "  else:\n",
        "    if max_val < min_val:\n",
        "      max_val=min_val\n",
        "    \n",
        "    if shape_1 < max_val:\n",
        "      \n",
        "      return torch.cat([torch.ones(shape_0, max_val - shape_1) * 0, tensor], dim=1)\n",
        "\n",
        "  return tensor\n",
        "\n",
        "\n",
        "# 1. Sort the tensors by their length\n",
        "# 2. Create a group with \"batch_size\" tensors.\n",
        "# 3. Inside that batch, apply zero-padding to uniform the lengths.\n",
        "# 4. Apply a sliding window to the time series inside the single batch.\n",
        "# 5. Re-create batches of size \"batch_size\", since sliding window can create other time series inside the batch.\n",
        "def create_batches(list_of_tensors, list_of_targets, batch_size, val = False, window_size = 1000):\n",
        "\n",
        "    # min length in seconds that each time series should have\n",
        "    min_len = 10 if val else 10\n",
        "\n",
        "    # print(len(list_of_tensors))\n",
        "\n",
        "    # create a list of useless targets for final testing dataset\n",
        "    if len(list_of_targets) == 0:\n",
        "      list_of_targets=[0 for i in range(len(list_of_tensors))]  #for testing\n",
        "\n",
        "   \n",
        "    # filter the values that are less than the minimum length.\n",
        "    filtered_tensors = [tensor for tensor in list_of_tensors if tensor.shape[1] >= min_len]\n",
        "    filtered_targets = [target for index,target in enumerate(list_of_targets) if list_of_tensors[index].shape[1] >= min_len]\n",
        "\n",
        "   # print(len(filtered_tensors))\n",
        "\n",
        "    \n",
        "    if (len(filtered_tensors)) <= 2:\n",
        "      sorted_tensors = filtered_tensors\n",
        "      sorted_targets = filtered_targets\n",
        "    else: \n",
        "      # sort the time series by their length in descending order\n",
        "      sorted_tensors, sorted_targets = zip(*sorted(zip(filtered_tensors, filtered_targets), key=lambda x: x[0].shape[1], reverse=True),)\n",
        "\n",
        "    \n",
        "    final_list=[]\n",
        "    \n",
        "    \n",
        "    # create the batches \n",
        "    for i in range(0, len(sorted_tensors), batch_size):\n",
        "        new_tensors = sorted_tensors[i:i+batch_size]\n",
        "        new_targets = sorted_targets[i:i+batch_size]\n",
        "        \n",
        "        # determine the maximum length of the time series\n",
        "        max_len = max([val.shape[1] for val in new_tensors])\n",
        "        \n",
        "        #pad the time series\n",
        "        tens=[]\n",
        "        for val in new_tensors:\n",
        "            new_val = pad_tensor(val, min_val = min_len, max_val = max_len)\n",
        "            tens.append(new_val)\n",
        "        \n",
        "        # create batches using sliding window approach\n",
        "        final_batch = []\n",
        "        c = 0\n",
        "        for tensor in tens:\n",
        "            tensor_len = tensor.shape[1]\n",
        "            num_windows = tensor_len // window_size\n",
        "\n",
        "            #if the time series are shorter than the sliding window\n",
        "            # no new time series will be created.\n",
        "            if num_windows == 0:\n",
        "              num_windows = 1\n",
        "\n",
        "            target = new_targets[c]\n",
        "            c += 1\n",
        "            for i in range(num_windows):\n",
        "                window_start = i * window_size\n",
        "                window_end = window_start + window_size\n",
        "                window_tensor = tensor[:, window_start:window_end]\n",
        "                # do not take time series with all zeros for each feature\n",
        "                # this can be possible due to using zero-padding and a sliding window\n",
        "                if not (window_tensor == 0).all():\n",
        "                    final_batch.append((window_tensor, target))\n",
        "\n",
        "        # create the final batches after sliding window has been applied\n",
        "        for k in range(0, len(final_batch), batch_size):\n",
        "          #returns the new batch\n",
        "          yield (final_batch[k:k + batch_size])\n",
        "\n",
        "# function to create training batches for a specific cluster\n",
        "def create_new_training_batch(cluster, batch_size=64):\n",
        "    return create_batches(all_tensors[cluster],all_targets[cluster], batch_size=batch_size)\n",
        "\n",
        "# function to create validation batches for a specific cluster\n",
        "def create_new_validation_batch(cluster, batch_size=64, val = True):\n",
        "    return create_batches(all_val_tensors[cluster],all_val_targets[cluster], batch_size=batch_size, val = val)"
      ],
      "metadata": {
        "id": "e5x79bUmKz2A"
      },
      "execution_count": null,
      "outputs": []
    },
    {
      "cell_type": "markdown",
      "source": [
        "## LOSS"
      ],
      "metadata": {
        "id": "hzw0An0nvJjT"
      }
    },
    {
      "cell_type": "markdown",
      "source": [
        "We define the loss that will be used to evaluate the final testing score in this challenge, penalizing over-estimated RULs."
      ],
      "metadata": {
        "id": "EzXibDahUfza"
      }
    },
    {
      "cell_type": "code",
      "source": [
        "def challenge_loss(outputs, targets):\n",
        "\n",
        "    sc = 0\n",
        "    for i in range(targets.shape[0]):\n",
        "        alpha = 1/13 if outputs[i] - targets[i] <= 0 else 1/10 \n",
        "        sc += (torch.exp(alpha * torch.abs(targets[i] - outputs[i])) - 1)\n",
        "    sc = 1/targets.shape[0] * torch.sum(sc)\n",
        "    \n",
        "    rmse = torch.sqrt(torch.sum((targets - outputs)**2)/targets.shape[0])\n",
        "   \n",
        "    return ((0.5 * rmse + 0.5 * sc)).to(device)"
      ],
      "metadata": {
        "id": "LjlFMnKfvLYG"
      },
      "execution_count": null,
      "outputs": []
    },
    {
      "cell_type": "markdown",
      "source": [
        "We also define the RMSE metric"
      ],
      "metadata": {
        "id": "X6xpHoANUxTP"
      }
    },
    {
      "cell_type": "code",
      "source": [
        "def RMSE_loss(outputs, targets):\n",
        "\n",
        "    return torch.sqrt(torch.sum((targets - outputs)**2)/targets.shape[0]).to(device)"
      ],
      "metadata": {
        "id": "F5EVxXIWOeUo"
      },
      "execution_count": null,
      "outputs": []
    },
    {
      "cell_type": "markdown",
      "source": [
        "## MODEL"
      ],
      "metadata": {
        "id": "69ZJwaxGJY9d"
      }
    },
    {
      "cell_type": "markdown",
      "source": [
        "This is the CNN architecture we'll use for training "
      ],
      "metadata": {
        "id": "HnCWJ1ZaU3Ul"
      }
    },
    {
      "cell_type": "code",
      "source": [
        "class RULNet(torch.nn.Module): \n",
        "  def __init__(self): \n",
        "    super(RULNet, self).__init__() \n",
        "    \n",
        "    self.conv1 = torch.nn.Conv1d(in_channels=26, out_channels=64, kernel_size=3, padding = 1)\n",
        "    self.conv2 = torch.nn.Conv1d(64, 64, kernel_size=3, padding=1)\n",
        "    self.conv3 = torch.nn.Conv1d(64, 32, kernel_size=3, padding=1)\n",
        "    self.conv4 = torch.nn.Conv1d(96, 64, kernel_size=3, padding=1)\n",
        "    \n",
        "    self.fc1 = torch.nn.Linear(32,16) \n",
        "    self.fc2 = torch.nn.Linear(16, 1)\n",
        "   \n",
        "    self.drop_1 = torch.nn.Dropout(p=0.2) \n",
        "    self.drop_2 = torch.nn.Dropout(p=0.2) \n",
        "    self.drop_3 = torch.nn.Dropout(p=0.2) \n",
        "\n",
        "    self.flatten = torch.nn.Flatten(1,2)\n",
        "    self.LSTM = torch.nn.LSTM(64, 16,num_layers=2, batch_first=True, dropout=0.2)\n",
        "\n",
        "    self.batch_norm1_0 = torch.nn.BatchNorm1d(64)\n",
        "    self.batch_norm1_1 = torch.nn.BatchNorm1d(64)\n",
        "    self.batch_norm2_0 = torch.nn.BatchNorm1d(96)\n",
        "    self.batch_norm2_1 = torch.nn.BatchNorm1d(64)\n",
        "\n",
        "\n",
        "    self.tanh=torch.nn.Tanh()\n",
        "    self.relu=torch.nn.ReLU()\n",
        "    \n",
        "  def forward(self, x): \n",
        "    \n",
        "    x = self.conv1(x) \n",
        "    x = self.batch_norm1_0(x)\n",
        "    x = self.tanh(x)\n",
        "    x_c0 = self.conv2(x)\n",
        "    x = self.batch_norm1_1(x_c0)\n",
        "    x = self.tanh(x)\n",
        "    x = self.drop_1(x)\n",
        "\n",
        "    \n",
        "    x_c1 = self.conv3(x)\n",
        "    x = torch.cat((x_c1, x_c0), dim=1)\n",
        "    x = self.batch_norm2_0(x)\n",
        "    x = self.tanh(x) \n",
        "\n",
        "    x = self.conv4(x)\n",
        "    x = self.batch_norm2_1(x)\n",
        "    x = self.tanh(x)\n",
        "    x = self.drop_2(x)\n",
        "    \n",
        "  \n",
        "    # transform the shape (BATCH_SIZE, NUM_FEATURES, LENGTH) to (BATCH_SIZE, LENGTH, NUM_FEATURES)\n",
        "    # this must be done to input the batch to LSTM\n",
        "    x = x.permute(0,2,1)\n",
        "    \n",
        "    # in h_n we'll have, for each LSTM layer, the value of the last hidden units (i.e. the output after last second)\n",
        "    output, (h_n, c_n) = self.LSTM(x)\n",
        "\n",
        "    # shape of h_n is (NUM_LSTM_LAYERS, BATCH_SIZE, NUM_LSTM_HIDDEN_UNITS)\n",
        "    # transform it to (BATCH_SIZE, NUM_LSTM_LAYERS, NUM_LSTM_HIDDEN_UNITS)\n",
        "    h_n = h_n.permute(1,0,2)\n",
        "\n",
        "\n",
        "    x = self.flatten(h_n) \n",
        "    x = self.fc1(x)\n",
        "    x = self.fc2(x)\n",
        "    x = self.relu(x)\n",
        "   \n",
        "    return x \n"
      ],
      "metadata": {
        "id": "MrQDhze0L5Yq"
      },
      "execution_count": null,
      "outputs": []
    },
    {
      "cell_type": "markdown",
      "source": [
        "## EVALUATION FUNCTION"
      ],
      "metadata": {
        "id": "dIi5OKyrsmA-"
      }
    },
    {
      "cell_type": "markdown",
      "source": [
        "The following function evaluates the validation batches, given the instance of the model and the criterion (i.e. the loss)"
      ],
      "metadata": {
        "id": "etn-k0eTWzcZ"
      }
    },
    {
      "cell_type": "code",
      "source": [
        "def evaluate_model(model, criterion, validation_batch, length_validation = None):\n",
        "    model = model.eval()\n",
        "    \n",
        "    \n",
        "    with torch.no_grad():\n",
        "       \n",
        "        running_loss = []\n",
        "        progress = 0\n",
        "        diffs=[]\n",
        "        all_predictions = []\n",
        "        all_real_targets = []\n",
        "\n",
        "        for batch in validation_batch:\n",
        "          # create the batch of training time series\n",
        "          data=(torch.stack([val[0] for val in batch])).to(device)\n",
        "          # create the batch of corresponding targets\n",
        "          targets = torch.tensor([val[1] for val in batch]).float().unsqueeze(1).to(device)\n",
        "            \n",
        "          outputs = model(data) \n",
        "\n",
        "          # save the real target and predicted target \n",
        "          # for each time series inside the batch\n",
        "          all_predictions += [outputs[k][0].item() for k in range(outputs.shape[0])]\n",
        "          all_real_targets += [targets[k][0].item() for k in range(outputs.shape[0])]\n",
        "          \n",
        "          loss = criterion(outputs, targets)\n",
        "\n",
        "          # save the difference between real target and predicted target \n",
        "          # for each time series inside the batch\n",
        "          diffs += [abs(targets[k][0].item() - outputs[k][0].item()) for k in range(outputs.shape[0])]\n",
        "     \n",
        "          running_loss.append(loss.item())\n",
        "\n",
        "          progress += 1\n",
        "          if length_validation != None:\n",
        "              tp = progress/length_validation*100\n",
        "              sys.stdout.write('\\r')\n",
        "              sys.stdout.write(\"[%-50s] %d%%\" %('='*int(tp/2), tp))\n",
        "            \n",
        "              sys.stdout.flush()\n",
        "\n",
        "    return np.mean(diffs), np.mean(running_loss), all_predictions, all_real_targets\n",
        "            "
      ],
      "metadata": {
        "id": "hbKp4Q43Y7Me"
      },
      "execution_count": null,
      "outputs": []
    },
    {
      "cell_type": "markdown",
      "source": [
        "## TRAINING FUNCTION"
      ],
      "metadata": {
        "id": "qKxzuPURso_9"
      }
    },
    {
      "cell_type": "markdown",
      "source": [
        "The following function defines how to train the model in a single epoch, given the instance of the model and the criterion (i.e. the loss)"
      ],
      "metadata": {
        "id": "P7c5YmyhX5Dv"
      }
    },
    {
      "cell_type": "code",
      "source": [
        "\n",
        "def train_epoch(model, optimizer, criterion, training_data, length_training):\n",
        "\n",
        "        model = model.train()\n",
        "\n",
        "        running_loss = []\n",
        "        progress = 0\n",
        "        diffs=[]\n",
        "        all_predictions = []\n",
        "        all_real_targets = []\n",
        "\n",
        "        for batch in training_data:\n",
        "              # create the batch of training time series\n",
        "              data=(torch.stack([val[0] for val in batch])).to(device)\n",
        "              # create the batch of corresponding targets\n",
        "              targets = torch.tensor([val[1] for val in batch]).float().unsqueeze(1).to(device)\n",
        "\n",
        "              outputs = model(data) \n",
        "           \n",
        "              loss = criterion(outputs, targets)\n",
        "\n",
        "              # save the real target and predicted target \n",
        "              # for each time series inside the batch\n",
        "              all_predictions += [outputs[k][0].item() for k in range(outputs.shape[0])]\n",
        "              all_real_targets += [targets[k][0].item() for k in range(outputs.shape[0])]\n",
        "\n",
        "\n",
        "              # save the difference between real target and predicted target \n",
        "              # for each time series inside the batch\n",
        "              diffs += [abs(targets[k][0].item() - outputs[k][0].item()) for k in range(outputs.shape[0])]\n",
        "\n",
        "              loss.backward() # compute chain rule\n",
        "              optimizer.step() # update weights using new gradients\n",
        "              optimizer.zero_grad() # clear computed gradients \n",
        "              \n",
        "              running_loss.append(loss.item())\n",
        "\n",
        "              progress += 1\n",
        "              tp = progress/length_training*100\n",
        "              sys.stdout.write('\\r')\n",
        "              sys.stdout.write(\"[%-50s] %d%%\" %('='*int(tp/2), tp))\n",
        "              \n",
        "              sys.stdout.flush()\n",
        "             \n",
        "\n",
        "        return np.mean(diffs), np.mean(running_loss), all_predictions, all_real_targets\n",
        "              \n",
        "        "
      ],
      "metadata": {
        "id": "wHWtB1_rYz0-"
      },
      "execution_count": null,
      "outputs": []
    },
    {
      "cell_type": "markdown",
      "source": [
        "## TRAINING"
      ],
      "metadata": {
        "id": "rKYSHdSabLWh"
      }
    },
    {
      "cell_type": "code",
      "source": [
        "# define the device to use for training\n",
        "device = torch.device(\"cuda\" if torch.cuda.is_available() else \"cpu\")\n",
        "\n",
        "# define the loss to use for training\n",
        "criterion = challenge_loss"
      ],
      "metadata": {
        "id": "yB-TrkXvl5Ol"
      },
      "execution_count": null,
      "outputs": []
    },
    {
      "cell_type": "markdown",
      "source": [
        "We define here how to train the models for each cluster.\n",
        "During the training, a function **earlystopping** will check if validation_loss is lower than the minimum validation_loss (i.e. if it's improving).\n",
        "EarlyStopping has a patience of x epochs, so it waits for x epochs an improvement of val_loss. If the val_loss doesn't improve, it will stop the training and the weights of the epoch with the best val_loss will be restored."
      ],
      "metadata": {
        "id": "VeMhMCUxZ7UT"
      }
    },
    {
      "cell_type": "code",
      "source": [
        "\n",
        "# clear cuda cache if possible\n",
        "with torch.no_grad():\n",
        "    torch.cuda.empty_cache()\n",
        "\n",
        "\n",
        "\n",
        "\n",
        "# create the list of models to train, one for each cluster\n",
        "models = [RULNet().to(device) for j in range(kmeans.n_clusters)]\n",
        "\n",
        "# define the maximum number of epochs\n",
        "EPOCHS=100\n",
        "\n",
        "# define the cluster to start for training\n",
        "count_models = 1\n",
        "\n",
        "# this define where to save the results of the current training session\n",
        "training_session = 6\n",
        "\n",
        "# define the variable that will store all useful info during the training\n",
        "history = [defaultdict(list)  for j in range(kmeans.n_clusters)]\n",
        "\n",
        "\n",
        "# create a checkpoint directory where to save weights during training\n",
        "if not os.path.exists(os.path.join(base_path, 'checkpoints')):\n",
        "  os.mkdir(os.path.join(base_path, 'checkpoints'))\n",
        "    \n",
        "# for each cluster from count_models to number of clusters\n",
        "# define the hyperparameters and start training\n",
        "for counter in range(count_models, len(models)):\n",
        "\n",
        "        with torch.no_grad():\n",
        "          torch.cuda.empty_cache()  \n",
        "\n",
        "        # force to start the garbage collector\n",
        "        import gc\n",
        "        gc.collect()\n",
        "\n",
        "        # get the single model\n",
        "        model = models[counter]\n",
        "\n",
        "        # define the training and validation batch size to use for each cluster\n",
        "        batch_size = 8 if counter == 0 or counter== 2 else 8\n",
        "        validation_batch_size = batch_size\n",
        "\n",
        "        # define the learning rate to use for each cluster\n",
        "        lr = 2e-3 if counter == 0 or counter == 2 else 4e-3\n",
        " \n",
        "        # define the patience of EarlyStopping\n",
        "        patience_earlystopping = 4\n",
        "        \n",
        "        # define the Optimizer\n",
        "        optimizer = torch.optim.Adam(model.parameters(), lr=lr)\n",
        "      \n",
        "     \n",
        "        print(\"training model\", counter, \"/\", kmeans.n_clusters)\n",
        "\n",
        "        epoch_count = 0\n",
        "        val_loss_history = []\n",
        "        train_loss_history = []\n",
        "        \n",
        "        \n",
        "        def earlystopping(val_loss, patience = patience_earlystopping):\n",
        "          if len(val_loss) < patience:\n",
        "            return False\n",
        "\n",
        "\n",
        "          min_index, min_loss = min(enumerate(val_loss), key=lambda x: x[1])\n",
        "          patience_counter = 0\n",
        "          for i in range(min_index + 1, len(val_loss)):\n",
        "              if val_loss[i] > min_loss:\n",
        "                  patience_counter += 1\n",
        "              if patience_counter >= patience:\n",
        "                  return True\n",
        "\n",
        "          return False\n",
        "        \n",
        "        # start the training and check the earlystopping feedback\n",
        "        while epoch_count < EPOCHS and not earlystopping(val_loss_history):\n",
        " \n",
        "            # create the validation batches\n",
        "            validation_batches = (create_new_validation_batch(counter, batch_size=validation_batch_size))\n",
        "\n",
        "            # create the training batches\n",
        "            training_data = create_new_training_batch(counter, batch_size=batch_size)\n",
        "            \n",
        "\n",
        "            print(f\"Epoch {epoch_count + 1}/{EPOCHS}\")\n",
        "            print(\"---\" * 10)\n",
        "\n",
        "            # train model\n",
        "            train_diffs, train_loss,train_rul_predicted,train_ruls_actual = train_epoch(model, optimizer, criterion, training_data, len(all_tensors[counter])// batch_size)\n",
        "            print()\n",
        "            print(f\"Training loss: {train_loss} ; training diffs: {train_diffs}\")\n",
        "\n",
        "            # evaluate model\n",
        "            val_diffs, val_loss,rul_predicted,ruls_actual = evaluate_model(model, criterion, validation_batches, len(all_val_tensors[counter])//validation_batch_size)\n",
        "            print()\n",
        "            print(f\"Validation loss: {val_loss} ; valdiation diffs: {val_diffs}\")            \n",
        "\n",
        "            # update histories\n",
        "            train_loss_history.append(train_loss)\n",
        "            val_loss_history.append(val_loss)\n",
        "\n",
        "            #save checkpoint\n",
        "            torch.save({\n",
        "                'epoch': epoch_count,\n",
        "                'model_state_dict': model.state_dict(),\n",
        "                'optimizer_state_dict': optimizer.state_dict(),\n",
        "                'train_loss': train_loss,\n",
        "                'val_loss': val_loss\n",
        "            }, os.path.join(base_path, f'checkpoints/cp-{epoch_count}-{counter}-{training_session}.pth'))\n",
        "\n",
        "            # sort the validation RULs by their length\n",
        "            rul_predicted = [rul_predicted[i] for i in np.argsort(ruls_actual)[::-1]]\n",
        "            ruls_actual = np.sort(ruls_actual)[::-1]\n",
        "\n",
        "            # sort the training RULs by their length\n",
        "            train_rul_predicted = [train_rul_predicted[i] for i in np.argsort(train_ruls_actual)[::-1]]\n",
        "            train_ruls_actual = np.sort(train_ruls_actual)[::-1]\n",
        "\n",
        "            # store training info\n",
        "            history[counter]['train_diffs'].append(train_diffs)\n",
        "            history[counter]['train_loss'].append(train_loss)\n",
        "            history[counter]['val_diffs'].append(val_diffs)\n",
        "            history[counter]['val_loss'].append(val_loss)\n",
        "            history[counter]['rul_predicted'].append(rul_predicted)\n",
        "            history[counter]['ruls_actual'].append(ruls_actual)\n",
        "            history[counter]['train_rul_predicted'].append(train_rul_predicted)\n",
        "            history[counter]['train_ruls_actual'].append(train_ruls_actual)\n",
        "            history[counter]['batch_size'] = batch_size\n",
        "            history[counter]['lr'] = lr\n",
        "            history[counter]['patience_earlystopping'] = patience_earlystopping\n",
        "\n",
        "            epoch_count += 1\n",
        "        \n",
        "\n",
        "        # restore the best weights, i.e. the epoch with the min val_loss\n",
        "        val_loss = history[counter][\"val_loss\"]\n",
        "        min_val_loss = min(val_loss)\n",
        "        last_val_loss_index = val_loss.index(min_val_loss)\n",
        "        checkpoint = torch.load(os.path.join(base_path, f'checkpoints/cp-{last_val_loss_index}-{counter}-{training_session}.pth'))\n",
        "        \n",
        "        print(\"Restore the best weights\")\n",
        "        model.load_state_dict(checkpoint['model_state_dict'])\n",
        "\n",
        "        print(f'saving the best model for cluster {counter}' )\n",
        "        torch.save(model.state_dict(), os.path.join(base_path,f'rul_model_cluster_dict-{counter}-{training_session}.pth'))\n",
        "\n",
        "        # save the list of objects of best training\n",
        "        with open(dumps_path + f'_history_training_models_{counter}-{training_session}.pickle', 'wb') as f:\n",
        "            pickle.dump(history[counter], f)\n",
        "\n",
        "        print(f'ending cluster {counter}....')\n",
        "        \n",
        "  \n"
      ],
      "metadata": {
        "id": "3mGZudtKbKox",
        "colab": {
          "base_uri": "https://localhost:8080/"
        },
        "outputId": "1c4cecc0-6fa8-45e3-ba2d-d9b0219256a4"
      },
      "execution_count": null,
      "outputs": [
        {
          "output_type": "stream",
          "name": "stdout",
          "text": [
            "-,,--,training models----\n",
            "training model 1 / 3\n",
            "Epoch 1/100\n",
            "--,..,--,,--,---,..,--,,--,---,..,--,,--,---,..,--,,--,---,..,--,,--,---,..,--,,--,---,..,--,,--,---,..,--,,--,---,..,--,,--,---,..,--,,--,-\n",
            "11788\n",
            "11282\n",
            "[====================================================] 104%\n",
            "Training loss: 10.537994048151967 ; training diffs: 13.827104585351107\n",
            "7659\n",
            "7288\n",
            "[===================================================] 102%\n",
            "Validation loss: 7.277204908695317 ; valdiation diffs: 10.524455880943222\n",
            "Epoch 2/100\n",
            "--,..,--,,--,---,..,--,,--,---,..,--,,--,---,..,--,,--,---,..,--,,--,---,..,--,,--,---,..,--,,--,---,..,--,,--,---,..,--,,--,---,..,--,,--,-\n",
            "11788\n",
            "11282\n",
            "[====================================================] 104%\n",
            "Training loss: 7.955105859894917 ; training diffs: 11.188291861144068\n",
            "7659\n",
            "7288\n",
            "[===================================================] 102%\n",
            "Validation loss: 6.231263821379183 ; valdiation diffs: 9.0488122013509\n",
            "Epoch 3/100\n",
            "--,..,--,,--,---,..,--,,--,---,..,--,,--,---,..,--,,--,---,..,--,,--,---,..,--,,--,---,..,--,,--,---,..,--,,--,---,..,--,,--,---,..,--,,--,-\n",
            "11788\n",
            "11282\n",
            "[====================================================] 104%\n",
            "Training loss: 7.476388525901023 ; training diffs: 10.647087687966694\n",
            "7659\n",
            "7288\n",
            "[===================================================] 102%\n",
            "Validation loss: 6.088621887035176 ; valdiation diffs: 8.767886385482415\n",
            "Epoch 4/100\n",
            "--,..,--,,--,---,..,--,,--,---,..,--,,--,---,..,--,,--,---,..,--,,--,---,..,--,,--,---,..,--,,--,---,..,--,,--,---,..,--,,--,---,..,--,,--,-\n",
            "11788\n",
            "11282\n",
            "[====================================================] 104%\n",
            "Training loss: 7.125527237192501 ; training diffs: 10.285757394894251\n",
            "7659\n",
            "7288\n",
            "[===================================================] 102%\n",
            "Validation loss: 7.019459703731052 ; valdiation diffs: 9.94718066904771\n",
            "Epoch 5/100\n",
            "--,..,--,,--,---,..,--,,--,---,..,--,,--,---,..,--,,--,---,..,--,,--,---,..,--,,--,---,..,--,,--,---,..,--,,--,---,..,--,,--,---,..,--,,--,-\n",
            "11788\n",
            "11282\n",
            "[====================================================] 104%\n",
            "Training loss: 6.978681913769562 ; training diffs: 10.025317554257397\n",
            "7659\n",
            "7288\n",
            "[===================================================] 102%\n",
            "Validation loss: 8.896632166743883 ; valdiation diffs: 12.06050000127778\n",
            "Epoch 6/100\n",
            "--,..,--,,--,---,..,--,,--,---,..,--,,--,---,..,--,,--,---,..,--,,--,---,..,--,,--,---,..,--,,--,---,..,--,,--,---,..,--,,--,---,..,--,,--,-\n",
            "11788\n",
            "11282\n",
            "[====================================================] 104%\n",
            "Training loss: 6.8367454694681795 ; training diffs: 9.88056210470335\n",
            "7659\n",
            "7288\n",
            "[===================================================] 102%\n",
            "Validation loss: 5.7433168319881265 ; valdiation diffs: 8.231875720886134\n",
            "Epoch 7/100\n",
            "--,..,--,,--,---,..,--,,--,---,..,--,,--,---,..,--,,--,---,..,--,,--,---,..,--,,--,---,..,--,,--,---,..,--,,--,---,..,--,,--,---,..,--,,--,-\n",
            "11788\n",
            "11282\n",
            "[====================================================] 104%\n",
            "Training loss: 6.648428477641444 ; training diffs: 9.585481936689035\n",
            "7659\n",
            "7288\n",
            "[===================================================] 102%\n",
            "Validation loss: 5.297452272618482 ; valdiation diffs: 7.490889026623201\n",
            "Epoch 8/100\n",
            "--,..,--,,--,---,..,--,,--,---,..,--,,--,---,..,--,,--,---,..,--,,--,---,..,--,,--,---,..,--,,--,---,..,--,,--,---,..,--,,--,---,..,--,,--,-\n",
            "11788\n",
            "11282\n",
            "[====================================================] 104%\n",
            "Training loss: 6.526572588852916 ; training diffs: 9.392850340741532\n",
            "7659\n",
            "7288\n",
            "[===================================================] 102%\n",
            "Validation loss: 6.389962825436277 ; valdiation diffs: 9.034554777282196\n",
            "Epoch 9/100\n",
            "--,..,--,,--,---,..,--,,--,---,..,--,,--,---,..,--,,--,---,..,--,,--,---,..,--,,--,---,..,--,,--,---,..,--,,--,---,..,--,,--,---,..,--,,--,-\n",
            "11788\n",
            "11282\n",
            "[====================================================] 104%\n",
            "Training loss: 6.347705689793041 ; training diffs: 9.149512007500316\n",
            "7659\n",
            "7288\n",
            "[===================================================] 102%\n",
            "Validation loss: 4.962127290643411 ; valdiation diffs: 7.041321286335503\n",
            "Epoch 10/100\n",
            "--,..,--,,--,---,..,--,,--,---,..,--,,--,---,..,--,,--,---,..,--,,--,---,..,--,,--,---,..,--,,--,---,..,--,,--,---,..,--,,--,---,..,--,,--,-\n",
            "11788\n",
            "11282\n",
            "[====================================================] 104%\n",
            "Training loss: 6.609945153927386 ; training diffs: 9.49421329402856\n",
            "7659\n",
            "7288\n",
            "[===================================================] 102%\n",
            "Validation loss: 5.5582430880686955 ; valdiation diffs: 8.053026764669347\n",
            "Epoch 11/100\n",
            "--,..,--,,--,---,..,--,,--,---,..,--,,--,---,..,--,,--,---,..,--,,--,---,..,--,,--,---,..,--,,--,---,..,--,,--,---,..,--,,--,---,..,--,,--,-\n",
            "11788\n",
            "11282\n",
            "[====================================================] 104%\n",
            "Training loss: 6.407281768376071 ; training diffs: 9.248018794589841\n",
            "7659\n",
            "7288\n",
            "[===================================================] 102%\n",
            "Validation loss: 5.789725375175476 ; valdiation diffs: 8.317094533186479\n",
            "Epoch 12/100\n",
            "--,..,--,,--,---,..,--,,--,---,..,--,,--,---,..,--,,--,---,..,--,,--,---,..,--,,--,---,..,--,,--,---,..,--,,--,---,..,--,,--,---,..,--,,--,-\n",
            "11788\n",
            "11282\n",
            "[====================================================] 104%\n",
            "Training loss: 6.100415169033846 ; training diffs: 8.819863813941566\n",
            "7659\n",
            "7288\n",
            "[===================================================] 102%\n",
            "Validation loss: 5.449945808667217 ; valdiation diffs: 7.693152929572144\n",
            "Epoch 13/100\n",
            "--,..,--,,--,---,..,--,,--,---,..,--,,--,---,..,--,,--,---,..,--,,--,---,..,--,,--,---,..,--,,--,---,..,--,,--,---,..,--,,--,---,..,--,,--,-\n",
            "11788\n",
            "11282\n",
            "[====================================================] 104%\n",
            "Training loss: 6.001947412688626 ; training diffs: 8.645151479011322\n",
            "7659\n",
            "7288\n",
            "[===================================================] 102%\n",
            "Validation loss: 4.9416647401557965 ; valdiation diffs: 7.047598124549249\n",
            "Epoch 14/100\n",
            "--,..,--,,--,---,..,--,,--,---,..,--,,--,---,..,--,,--,---,..,--,,--,---,..,--,,--,---,..,--,,--,---,..,--,,--,---,..,--,,--,---,..,--,,--,-\n",
            "11788\n",
            "11282\n",
            "[====================================================] 104%\n",
            "Training loss: 5.856387388335368 ; training diffs: 8.44882483879081\n",
            "7659\n",
            "7288\n",
            "[===================================================] 102%\n",
            "Validation loss: 5.044185127522135 ; valdiation diffs: 7.094629418846918\n",
            "Epoch 15/100\n",
            "--,..,--,,--,---,..,--,,--,---,..,--,,--,---,..,--,,--,---,..,--,,--,---,..,--,,--,---,..,--,,--,---,..,--,,--,---,..,--,,--,---,..,--,,--,-\n",
            "11788\n",
            "11282\n",
            "[====================================================] 104%\n",
            "Training loss: 5.872431181926505 ; training diffs: 8.4485439905064\n",
            "7659\n",
            "7288\n",
            "[===================================================] 102%\n",
            "Validation loss: 5.126043753333503 ; valdiation diffs: 7.2844008681464505\n",
            "Epoch 16/100\n",
            "--,..,--,,--,---,..,--,,--,---,..,--,,--,---,..,--,,--,---,..,--,,--,---,..,--,,--,---,..,--,,--,---,..,--,,--,---,..,--,,--,---,..,--,,--,-\n",
            "11788\n",
            "11282\n",
            "[====================================================] 104%\n",
            "Training loss: 5.881058433924259 ; training diffs: 8.466238785389226\n",
            "7659\n",
            "7288\n",
            "[===================================================] 102%\n",
            "Validation loss: 5.162716403588425 ; valdiation diffs: 7.247914334367764\n",
            "Epoch 17/100\n",
            "--,..,--,,--,---,..,--,,--,---,..,--,,--,---,..,--,,--,---,..,--,,--,---,..,--,,--,---,..,--,,--,---,..,--,,--,---,..,--,,--,---,..,--,,--,-\n",
            "11788\n",
            "11282\n",
            "[====================================================] 104%\n",
            "Training loss: 5.799126104341261 ; training diffs: 8.330092448539757\n",
            "7659\n",
            "7288\n",
            "[===================================================] 102%\n",
            "Validation loss: 5.325980775307883 ; valdiation diffs: 7.53245880477574\n",
            "Restore the best weights\n",
            "saving the best model for cluster 1\n",
            "ending cluster 1....\n"
          ]
        }
      ]
    },
    {
      "cell_type": "markdown",
      "source": [
        "### PRINT VAL_LOSS RULs"
      ],
      "metadata": {
        "id": "1rsmaVKEKKdn"
      }
    },
    {
      "cell_type": "markdown",
      "source": [
        "The following function will restore the history of the training for each cluster, and plot the predicted RULs and real RULs of each time series of the epoch with the best val_loss."
      ],
      "metadata": {
        "id": "JxfQRIa4dlpK"
      }
    },
    {
      "cell_type": "code",
      "source": [
        "\n",
        "def print_ruls_predictions(arg=\"\", title=\"Validation\"):\n",
        "  for i in range(kmeans.n_clusters):\n",
        "      try:\n",
        "        # reload the list of cycles\n",
        "        with open(dumps_path + f'_history_training_models_{i}-{training_session}.pickle', 'rb') as f:\n",
        "          history = pickle.load(f)\n",
        "\n",
        "        min_val_loss = min(history[\"val_loss\"])\n",
        "\n",
        "        # restore the best epoch\n",
        "        best_index = history[\"val_loss\"].index(min_val_loss)\n",
        "\n",
        "\n",
        "        # plot predicted and actual RULs of the best epoch\n",
        "        plt.figure(figsize=(10,8))\n",
        "        plt.plot(history[f\"{arg}rul_predicted\"][best_index], color='r', label='Predicted')\n",
        "        plt.plot(history[f\"{arg}ruls_actual\"][best_index], color='g', label='Actual')\n",
        "        plt.xlabel('Time Series')\n",
        "        plt.ylabel('RULs')\n",
        "        plt.title(f'{title} - Predicted vs Actual RULs - Cluster {i + 1}')\n",
        "        plt.legend()\n",
        "        plt.show()\n",
        "      except:\n",
        "        pass\n",
        "\n",
        "print(\"Validation\")\n",
        "print_ruls_predictions()\n",
        "print()\n",
        "print(\"Training\")\n",
        "print_ruls_predictions(arg=\"train_\", title=\"Training\")"
      ],
      "metadata": {
        "id": "PRWucgWMOHM7",
        "colab": {
          "base_uri": "https://localhost:8080/",
          "height": 1000
        },
        "outputId": "e9547a0a-2898-4d4d-a020-7629d671678b"
      },
      "execution_count": null,
      "outputs": [
        {
          "output_type": "stream",
          "name": "stdout",
          "text": [
            "Validation\n"
          ]
        },
        {
          "output_type": "display_data",
          "data": {
            "text/plain": [
              "<Figure size 720x576 with 1 Axes>"
            ],
            "image/png": "[encoded data removed]"
          },
          "metadata": {
            "needs_background": "light"
          }
        },
        {
          "output_type": "stream",
          "name": "stdout",
          "text": [
            "\n",
            "Training\n"
          ]
        },
        {
          "output_type": "display_data",
          "data": {
            "text/plain": [
              "<Figure size 720x576 with 1 Axes>"
            ],
            "image/png": "[encoded data removed]"
          },
          "metadata": {
            "needs_background": "light"
          }
        }
      ]
    },
    {
      "cell_type": "markdown",
      "source": [
        "### PRINT VAL_LOSS AND TRAIN_LOSS"
      ],
      "metadata": {
        "id": "qu8AVCemKOJU"
      }
    },
    {
      "cell_type": "code",
      "source": [
        "training_session=6"
      ],
      "metadata": {
        "id": "ubGodzsatREa"
      },
      "execution_count": null,
      "outputs": []
    },
    {
      "cell_type": "markdown",
      "source": [
        "The following function will plot the training and validation loss of the training, for each cluster."
      ],
      "metadata": {
        "id": "qeUFNXm9ebuD"
      }
    },
    {
      "cell_type": "code",
      "source": [
        "\n",
        "for i in range(kmeans.n_clusters):\n",
        "    try:     \n",
        "        with open(dumps_path + f'_history_training_models_{i}-{training_session}.pickle', 'rb') as f:\n",
        "          history = pickle.load(f)\n",
        "\n",
        "        min_val_loss = min(history[\"val_loss\"])\n",
        "        \n",
        "        # restore the best epoch\n",
        "        best_index = history[\"val_loss\"].index(min_val_loss)\n",
        "\n",
        "        print(f\"best epoch loss cluster {i + 1} - training session {training_session}\")\n",
        "        print(f\"val loss cluster\" , min_val_loss)\n",
        "        print(f\"training loss\" , history[\"train_loss\"][best_index])\n",
        "        print()\n",
        "\n",
        "        # plot training and validation loss \n",
        "        plt.figure(figsize=(12, 8))\n",
        "        plt.plot(history['train_loss'], label=f'Train Loss - Cluster {i+1}')\n",
        "        plt.plot(history['val_loss'], label=f'Val Loss - Cluster {i+1}')\n",
        "        plt.title(f'Training History - Loss - Cluster {i + 1}')\n",
        "        plt.ylabel('Loss')\n",
        "        plt.xlabel('Epoch')\n",
        "        plt.legend()\n",
        "    except:\n",
        "      pass\n"
      ],
      "metadata": {
        "id": "0YwfdElyKImM",
        "colab": {
          "base_uri": "https://localhost:8080/",
          "height": 586
        },
        "outputId": "21519c69-3db6-4d34-f7d6-0ab3903a3cf3"
      },
      "execution_count": null,
      "outputs": [
        {
          "output_type": "stream",
          "name": "stdout",
          "text": [
            "best epoch loss cluster 2 - training session 6\n",
            "val loss cluster 4.9416647401557965\n",
            "training loss 6.001947412688626\n",
            "\n"
          ]
        },
        {
          "output_type": "display_data",
          "data": {
            "text/plain": [
              "<Figure size 864x576 with 1 Axes>"
            ],
            "image/png": "[encoded data removed]"
          },
          "metadata": {
            "needs_background": "light"
          }
        }
      ]
    },
    {
      "cell_type": "markdown",
      "source": [
        "## LOAD TRAINED MODELS"
      ],
      "metadata": {
        "id": "gVDX1KtH4lwA"
      }
    },
    {
      "cell_type": "markdown",
      "source": [
        "We can restore, for each cluster, the saved best model."
      ],
      "metadata": {
        "id": "vJDTAf-demur"
      }
    },
    {
      "cell_type": "code",
      "source": [
        "restore_training_session = [4,6,5]\n",
        "\n",
        "models = [RULNet().to(device) for j in range(kmeans.n_clusters)]\n",
        "\n",
        "for i in range(len(models)):\n",
        "  state = torch.load(os.path.join(base_path,f'rul_model_cluster_dict-{i}-{restore_training_session[i]}.pth'))\n",
        "  models[i].load_state_dict(state)"
      ],
      "metadata": {
        "id": "_19mtgL14WpC"
      },
      "execution_count": null,
      "outputs": []
    },
    {
      "cell_type": "markdown",
      "source": [
        "# METRICS"
      ],
      "metadata": {
        "id": "uEPZh1YysXqw"
      }
    },
    {
      "cell_type": "markdown",
      "source": [
        "In this section we're going to load testing data, and to print the final metrics for training, validation and testing datasets."
      ],
      "metadata": {
        "id": "z-R2KCkjeyMU"
      }
    },
    {
      "cell_type": "markdown",
      "source": [
        "## LOAD TESTING DATA"
      ],
      "metadata": {
        "id": "NA9bVmxye8UR"
      }
    },
    {
      "cell_type": "code",
      "source": [
        "import numpy as np\n",
        "import pandas as pd\n",
        "import pickle\n",
        "from tqdm import tqdm\n",
        "from joblib import dump, load\n",
        "import h5py\n",
        "#dumps_path = '/content/drive/MyDrive/Colab Notebooks/progetto_manutenzione/dumps'\n",
        "#base_path = '/content/drive/MyDrive/Colab Notebooks/progetto_manutenzione/dataset/'\n",
        "\n",
        "def extract_df_val(path: str):\n",
        "  with h5py.File(path, 'r') as hdf:\n",
        "    ['A_val', 'W_val', 'X_s_val']\n",
        "    W = np.array(hdf.get('W_val'))            # W\n",
        "    X_s = np.array(hdf.get('X_s_val'))        # X_s\n",
        "    A = np.array(hdf.get('A_val'))             # Auxiliary\n",
        "\n",
        "    W_var = ['alt','Mach','TRA','T2']\n",
        "    X_s_var = ['T24', 'T30', 'T48', 'T50', 'P15', 'P2', 'P21', 'P24', 'Ps30','P40', 'P50', 'Nf', 'Nc', 'Wf']  \n",
        "    A_var = ['unit','cycle','Fc','hs']\n",
        "\n",
        "    '''\n",
        "    df_X = pd.DataFrame(X_s, columns=X_s_var)\n",
        "    df_W = pd.DataFrame(W, columns=W_var)\n",
        "    df_A = pd.DataFrame(A, columns=A_var)\n",
        "    '''\n",
        "    df_X = pd.DataFrame(X_s, columns = X_s_var)\n",
        "    df_W = pd.DataFrame(W, columns = W_var)\n",
        "    df_A = pd.DataFrame(A, columns = A_var)\n",
        "    return pd.concat([df_W, df_A, df_X], axis=1)"
      ],
      "metadata": {
        "id": "CjSxjbQ4PERS"
      },
      "execution_count": null,
      "outputs": []
    },
    {
      "cell_type": "markdown",
      "source": [
        "We're going to create the Cycle() objects for each flight inside the testing dataset."
      ],
      "metadata": {
        "id": "uVuh5whbfHY5"
      }
    },
    {
      "cell_type": "markdown",
      "source": [
        "Since some time series don't have a stable flight (i.e., empty cruise datasets), we're going to take flights above 10,000 feet, since stable flights are generally at that altitude."
      ],
      "metadata": {
        "id": "Een0xrnefNIp"
      }
    },
    {
      "cell_type": "code",
      "source": [
        "dfs_test_sep = extract_df_val(path = base_path+'Data_Challenge_2021_N-CMAPSS_DS_Validation_f.h5')\n",
        "\n",
        "def get_val_cycle_list(dfs_test_sep, filename):\n",
        "  test_sampling_rate = 1\n",
        "  #print(len(dfs_test_sep))\n",
        "  cycle_test_list = [Cycle() for n in range(0, len(dfs_test_sep), test_sampling_rate)]\n",
        "  for n in tqdm(range(0, len(cycle_test_list))):\n",
        "    local_cycle = cycle_test_list[n]\n",
        "    local_cycle.cycle = add_cond_features([dfs_test_sep[n]])[0]\n",
        "    local_cycle.cruise = filter_cruise_alt(local_cycle.cycle, 30, 2, 60)\n",
        "\n",
        "    if len(local_cycle.cruise) == 0:\n",
        "      print()\n",
        "      non_missing_df = local_cycle.cycle.dropna()\n",
        "      local_cycle.cruise = non_missing_df[non_missing_df['alt'] >= 10000]\n",
        "      print(\"found empty local_cycle.cruise\")\n",
        "      print(\"taking only flights above 10.000 feets\")\n",
        "\n",
        "    local_cycle.condition = local_cycle.cruise[['alt', 'Mach', 'TRA', 'T2',\n",
        "                      'alt_diff', 'Mach_diff', 'TRA_diff', 'T2_diff', 'hs', 'cycle']]\n",
        "    local_cycle.transform_condition(cond_pca, cond_scaler)\n",
        "    local_cycle.cruise.insert(loc = 0, column='cluster', value=kmeans.predict(local_cycle.condition))\n",
        "    local_cycle.create_cluster_list(kmeans.n_clusters, train=True)\n",
        "\n",
        "    # save the list of objects\n",
        "  with open(dumps_path + filename, 'wb') as f:\n",
        "      pickle.dump(cycle_test_list, f)\n",
        "  \n",
        "  return cycle_test_list\n",
        "\n",
        "dfs_test_sep = get_cycle_list([dfs_test_sep])\n",
        "cycle_test_list = get_val_cycle_list(dfs_test_sep, 'cycle_test_list.pickle')"
      ],
      "metadata": {
        "id": "zvuV9Wl9h5fK"
      },
      "execution_count": null,
      "outputs": []
    },
    {
      "cell_type": "markdown",
      "source": [
        "## LOAD CYCLE TEST LIST"
      ],
      "metadata": {
        "id": "h9NQg3iWJtJI"
      }
    },
    {
      "cell_type": "markdown",
      "source": [
        "We can restore che list of Cycle objects from the storage."
      ],
      "metadata": {
        "id": "KEtiWmoqfqMJ"
      }
    },
    {
      "cell_type": "code",
      "source": [
        "# reload the list of cycles\n",
        "with open(dumps_path + 'cycle_test_list.pickle', 'rb') as f:\n",
        "    cycle_test_list = pickle.load(f)"
      ],
      "metadata": {
        "id": "3GgNlGzNTEoV"
      },
      "execution_count": null,
      "outputs": []
    },
    {
      "cell_type": "markdown",
      "source": [
        "## PREDICTIONS"
      ],
      "metadata": {
        "id": "SXkcTKtYQ-uW"
      }
    },
    {
      "cell_type": "markdown",
      "source": [
        "For each Cycle object (i.e., each flight), we will predict the RUL of each time series. Since each time series can belong to a specific cluster, we will use the model trained on that specific cluster for prediction. However, since Cluster 1 is the largest, to make one final RUL prediction for each flight, we will use a weighted average of all the predictions, giving more importance to predictions from Cluster 1."
      ],
      "metadata": {
        "id": "ADTWxmrnfvYS"
      }
    },
    {
      "cell_type": "code",
      "source": [
        "cluster_weights = [1,1.5,1]"
      ],
      "metadata": {
        "id": "VrXV9IPcHJ7x"
      },
      "execution_count": null,
      "outputs": []
    },
    {
      "cell_type": "markdown",
      "source": [
        "### TRAIN PREDICTIONS"
      ],
      "metadata": {
        "id": "vY7uRHGAge2M"
      }
    },
    {
      "cell_type": "code",
      "source": [
        "\n",
        "for i in tqdm (range(len(cycle_list))):\n",
        "    \n",
        "\n",
        "    all_list_df = cycle_list[i].cluster_list\n",
        "    final_scores = []\n",
        "    weights = []\n",
        "\n",
        "    \n",
        "    rg = range(len(all_list_df))\n",
        "\n",
        "    # get the time series of the cluster j\n",
        "    for j in rg:\n",
        "\n",
        "          # this is the list of all time series of the cluster j of the specific cycle\n",
        "          single_list_df = cycle_list[i].cluster_list[j]\n",
        "\n",
        "          tensors = []\n",
        "          targets = []\n",
        "\n",
        "          cluster = j\n",
        "          \n",
        "          # create normalized tensors for prediction\n",
        "          for single_df in single_list_df:\n",
        "\n",
        "                  rul = single_df.iloc[0].RUL\n",
        "                  targets.append(rul)\n",
        "\n",
        "                  \n",
        "                  cycle_list[i].rul = rul\n",
        "\n",
        "                 \n",
        "                  new_df = single_df.drop(columns=list_drop_columns)\n",
        "                  str_columns(new_df)\n",
        "                  new_df = min_max_scalers[cluster].transform(new_df)\n",
        "           \n",
        "                  \n",
        "                  tensor = torch.from_numpy(new_df).float().permute(1,0)\n",
        "                  tensors.append(tensor)\n",
        "\n",
        "          # make predictions on tensors using the model trained on cluster j\n",
        "          if len(tensors) != 0:\n",
        "            batches = list(create_batches(tensors, targets, batch_size=1, val = True))\n",
        "\n",
        "            # since we filter time series less than x seconds\n",
        "            # check if there is at least one batch for evaluation\n",
        "            if len(batches) > 0:\n",
        "              _, _,predictions,_= evaluate_model(models[cluster], criterion, batches)\n",
        "\n",
        "              final_scores += predictions\n",
        "              weights += [cluster_weights[cluster] for l in range(len(predictions))]\n",
        "\n",
        "  \n",
        "    # for the single cycle, create one final RUL as a weighted average of all the predictions\n",
        "    final_score = (np.average(final_scores, weights = weights))\n",
        "\n",
        "    # update the prediction\n",
        "    cycle_list[i].predicted_rul = final_score\n"
      ],
      "metadata": {
        "id": "uzI7kguPsZwu",
        "colab": {
          "base_uri": "https://localhost:8080/"
        },
        "outputId": "c8f17655-b32c-4301-9626-e0ee3e90bf5b"
      },
      "execution_count": null,
      "outputs": [
        {
          "output_type": "stream",
          "name": "stderr",
          "text": [
            "100%|██████████| 4484/4484 [03:42<00:00, 20.11it/s]\n"
          ]
        }
      ]
    },
    {
      "cell_type": "markdown",
      "source": [
        "### VAL PREDICTIONS"
      ],
      "metadata": {
        "id": "gc4ENjwamc0_"
      }
    },
    {
      "cell_type": "code",
      "source": [
        "\n",
        "for i in tqdm (range(len(cycle_val_list))):\n",
        "    \n",
        "\n",
        "    all_list_df = cycle_val_list[i].cluster_list\n",
        "    final_scores = []\n",
        "    weights = []\n",
        "\n",
        "    \n",
        "    rg = range(len(all_list_df))\n",
        "\n",
        "    # get the time series of the cluster j\n",
        "    for j in rg:\n",
        "\n",
        "          # this is the list of all time series of the cluster j of the specific cycle\n",
        "          single_list_df = cycle_val_list[i].cluster_list[j]\n",
        "\n",
        "          tensors = []\n",
        "          targets = []\n",
        "\n",
        "          cluster = j\n",
        "          \n",
        "          # create normalized tensors for prediction\n",
        "          for single_df in single_list_df:\n",
        "\n",
        "                  rul = single_df.iloc[0].RUL\n",
        "                  targets.append(rul)\n",
        "\n",
        "                  \n",
        "                  cycle_val_list[i].rul = rul\n",
        "\n",
        "                 \n",
        "                  new_df = single_df.drop(columns=list_drop_columns)\n",
        "                  str_columns(new_df)\n",
        "                  new_df = min_max_scalers[cluster].transform(new_df)\n",
        "           \n",
        "                  \n",
        "                  tensor = torch.from_numpy(new_df).float().permute(1,0)\n",
        "                  tensors.append(tensor)\n",
        "\n",
        "          # make predictions on tensors using the model trained on cluster j\n",
        "          if len(tensors) != 0:\n",
        "            batches = list(create_batches(tensors, targets, batch_size=1, val = True))\n",
        "\n",
        "            # since we filter time series less than x seconds\n",
        "            # check if there is at least one batch for evaluation\n",
        "            if len(batches) > 0:\n",
        "              _, _,predictions,_= evaluate_model(models[cluster], criterion, batches)\n",
        "\n",
        "              final_scores += predictions\n",
        "              weights += [cluster_weights[cluster] for l in range(len(predictions))]\n",
        "\n",
        "  \n",
        "    # for the single cycle, create one final RUL as a weighted average of all the predictions\n",
        "    final_score = (np.average(final_scores, weights = weights))\n",
        "\n",
        "    # update the prediction\n",
        "    cycle_val_list[i].predicted_rul = final_score\n"
      ],
      "metadata": {
        "id": "8Tbn8IXemX8d",
        "colab": {
          "base_uri": "https://localhost:8080/"
        },
        "outputId": "a2d5bc21-fc54-401a-cbba-7742e2ca3c76"
      },
      "execution_count": null,
      "outputs": [
        {
          "output_type": "stream",
          "name": "stderr",
          "text": [
            "100%|██████████| 2908/2908 [02:09<00:00, 22.54it/s]\n"
          ]
        }
      ]
    },
    {
      "cell_type": "markdown",
      "source": [
        "### TEST PREDICTIONS"
      ],
      "metadata": {
        "id": "Kw6jOP_a0bFy"
      }
    },
    {
      "cell_type": "code",
      "source": [
        "\n",
        "for i in tqdm (range(len(cycle_test_list))):\n",
        "    \n",
        "\n",
        "    all_list_df = cycle_test_list[i].cluster_list\n",
        "    final_scores = []\n",
        "    weights = []\n",
        "\n",
        "    \n",
        "    rg = range(len(all_list_df))\n",
        "\n",
        "    # get the time series of the cluster j\n",
        "    for j in rg:\n",
        "\n",
        "          # this is the list of all time series of the cluster j of the specific cycle\n",
        "          single_list_df = cycle_test_list[i].cluster_list[j]\n",
        "\n",
        "          tensors = []\n",
        "          targets = []\n",
        "\n",
        "          cluster = j\n",
        "          \n",
        "          # create normalized tensors for prediction\n",
        "          for single_df in single_list_df:\n",
        "                 \n",
        "                  new_df = single_df.drop(columns=list_drop_columns)\n",
        "                  str_columns(new_df)\n",
        "                  new_df = min_max_scalers[cluster].transform(new_df)\n",
        "           \n",
        "                  \n",
        "                  tensor = torch.from_numpy(new_df).float().permute(1,0)\n",
        "                  tensors.append(tensor)\n",
        "\n",
        "          # make predictions on tensors using the model trained on cluster j\n",
        "          if len(tensors) != 0:\n",
        "            batches = list(create_batches(tensors, targets, batch_size=1, val = True))\n",
        "\n",
        "            # since we filter time series less than x seconds\n",
        "            # check if there is at least one batch for evaluation\n",
        "            if len(batches) > 0:\n",
        "              _, _,predictions,_= evaluate_model(models[cluster], criterion, batches)\n",
        "\n",
        "              final_scores += predictions\n",
        "              weights += [cluster_weights[cluster] for l in range(len(predictions))]\n",
        "\n",
        "  \n",
        "    # for the single cycle, create one final RUL as a weighted average of all the predictions\n",
        "    final_score = (np.average(final_scores, weights = weights))\n",
        "\n",
        "    # update the prediction\n",
        "    cycle_test_list[i].predicted_rul = final_score\n"
      ],
      "metadata": {
        "id": "jwy6QU3W0a0c"
      },
      "execution_count": null,
      "outputs": []
    },
    {
      "cell_type": "markdown",
      "source": [
        "#### SAVING RESULTS ON CSV"
      ],
      "metadata": {
        "id": "HSwRoCuYHmdt"
      }
    },
    {
      "cell_type": "markdown",
      "source": [
        "Save the results of testing dataset to a csv"
      ],
      "metadata": {
        "id": "fKRWrpQSiyx6"
      }
    },
    {
      "cell_type": "code",
      "source": [
        "pred_ruls = []\n",
        "for i in range (len(cycle_test_list)):\n",
        "  pred_ruls.append((cycle_test_list[i].predicted_rul))\n",
        "\n",
        "predictions = pd.DataFrame(pred_ruls,columns=['predictions'])\n",
        "predictions.to_csv(os.path.join(base_path, 'final_testing_predictions.csv'),index=False)\n"
      ],
      "metadata": {
        "id": "0BrmtUgFG2Wc"
      },
      "execution_count": null,
      "outputs": []
    },
    {
      "cell_type": "markdown",
      "source": [
        "## RMSE AND NASA SCORE"
      ],
      "metadata": {
        "id": "Gz4HDQeHnwwY"
      }
    },
    {
      "cell_type": "markdown",
      "source": [
        "For training and validation datasets, we print the value of the defined metrics."
      ],
      "metadata": {
        "id": "30uQ_d6Si5Wx"
      }
    },
    {
      "cell_type": "code",
      "source": [
        "criterion = challenge_loss"
      ],
      "metadata": {
        "id": "PSWcaLgdaCng"
      },
      "execution_count": null,
      "outputs": []
    },
    {
      "cell_type": "code",
      "source": [
        "rmse = RMSE_loss"
      ],
      "metadata": {
        "id": "Qh7Yt7jhOkXU"
      },
      "execution_count": null,
      "outputs": []
    },
    {
      "cell_type": "markdown",
      "source": [
        "### VALIDATION"
      ],
      "metadata": {
        "id": "ZWQA0-TUjDbz"
      }
    },
    {
      "cell_type": "code",
      "source": [
        "pred_ruls = []\n",
        "real_ruls = []\n",
        "for i in range (len(cycle_val_list)):\n",
        "  real_ruls.append((cycle_val_list[i].rul))\n",
        "  pred_ruls.append((cycle_val_list[i].predicted_rul))\n",
        "\n",
        "rul_predicted = [pred_ruls[i] for i in np.argsort(real_ruls)[::-1]]\n",
        "ruls_actual = np.sort(real_ruls)[::-1]\n",
        "\n",
        "plt.figure(figsize=(10,8))\n",
        "plt.plot(rul_predicted, color='r', label='Predicted')\n",
        "plt.plot(ruls_actual, color='g', label='Actual')\n",
        "plt.xlabel('Index')\n",
        "plt.ylabel('RULs')\n",
        "plt.title('Validation - Predicted vs Actual RULs')\n",
        "plt.legend()\n",
        "plt.show()\n",
        "\n",
        "pred_ruls = torch.tensor(pred_ruls).float().unsqueeze(1)\n",
        "real_ruls = torch.tensor(real_ruls).float().unsqueeze(1)\n",
        "\n",
        "print()\n",
        "print(\"nasa score validation: \", criterion(pred_ruls, real_ruls).item())\n",
        "print(\"RMSE validation: \", rmse(pred_ruls, real_ruls).item())"
      ],
      "metadata": {
        "id": "-xaaVPtWnwBo",
        "colab": {
          "base_uri": "https://localhost:8080/",
          "height": 567
        },
        "outputId": "71264f61-662e-4679-ff25-fe256c091739"
      },
      "execution_count": null,
      "outputs": [
        {
          "output_type": "display_data",
          "data": {
            "text/plain": [
              "<Figure size 720x576 with 1 Axes>"
            ],
            "image/png": "[encoded data removed]"
          },
          "metadata": {
            "needs_background": "light"
          }
        },
        {
          "output_type": "stream",
          "name": "stdout",
          "text": [
            "\n",
            "nasa score validation:  5.272708415985107\n",
            "RMSE validation:  9.294027328491211\n"
          ]
        }
      ]
    },
    {
      "cell_type": "markdown",
      "source": [
        "### TRAINING"
      ],
      "metadata": {
        "id": "Qt4coxM0jF6V"
      }
    },
    {
      "cell_type": "code",
      "source": [
        "pred_ruls = []\n",
        "real_ruls = []\n",
        "for i in range (len(cycle_list)):\n",
        "  real_ruls.append((cycle_list[i].rul))\n",
        "  pred_ruls.append((cycle_list[i].predicted_rul))\n",
        "\n",
        "\n",
        "rul_predicted = [pred_ruls[i] for i in np.argsort(real_ruls)[::-1]]\n",
        "ruls_actual = np.sort(real_ruls)[::-1]\n",
        "\n",
        "plt.figure(figsize=(10,8))\n",
        "plt.plot(rul_predicted, color='r', label='Predicted')\n",
        "plt.plot(ruls_actual, color='g', label='Actual')\n",
        "plt.xlabel('Index of Batch')\n",
        "plt.ylabel('RULs')\n",
        "plt.title('Tarining - Predicted vs Actual RULs')\n",
        "plt.legend()\n",
        "plt.show()\n",
        "\n",
        "pred_ruls = torch.tensor(pred_ruls).float().unsqueeze(1)\n",
        "real_ruls = torch.tensor(real_ruls).float().unsqueeze(1)\n",
        "\n",
        "print()\n",
        "print(\"nasa score training: \", criterion(pred_ruls, real_ruls).item())\n",
        "print(\"RMSE training: \", rmse(pred_ruls, real_ruls).item())\n",
        "\n"
      ],
      "metadata": {
        "id": "hz-IkndMlV5x",
        "colab": {
          "base_uri": "https://localhost:8080/",
          "height": 567
        },
        "outputId": "fd11617e-a398-4d1a-e6ec-fe61f2ccd8b2"
      },
      "execution_count": null,
      "outputs": [
        {
          "output_type": "display_data",
          "data": {
            "text/plain": [
              "<Figure size 720x576 with 1 Axes>"
            ],
            "image/png": "[encoded data removed]"
          },
          "metadata": {
            "needs_background": "light"
          }
        },
        {
          "output_type": "stream",
          "name": "stdout",
          "text": [
            "\n",
            "nasa score training:  6.34022331237793\n",
            "RMSE training:  10.989152908325195\n"
          ]
        }
      ]
    }
  ],
  "metadata": {
    "colab": {
      "provenance": [],
      "machine_shape": "hm",
      "toc_visible": true
    },
    "kernelspec": {
      "display_name": "Python 3",
      "name": "python3"
    },
    "language_info": {
      "name": "python"
    },
    "accelerator": "TPU",
    "gpuClass": "standard"
  },
  "nbformat": 4,
  "nbformat_minor": 0
}